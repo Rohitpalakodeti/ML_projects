{
 "cells": [
  {
   "cell_type": "code",
   "execution_count": 111,
   "id": "89256e00",
   "metadata": {},
   "outputs": [],
   "source": [
    "import numpy as np\n",
    "from scipy import stats\n",
    "import pandas as pd\n",
    "import matplotlib.pyplot as plt\n",
    "import statsmodels.api as sm\n",
    "import warnings\n",
    "from itertools import product\n",
    "from datetime import datetime\n",
    "from statsmodels.tsa.stattools import kpss\n",
    "warnings.filterwarnings('ignore')\n",
    "plt.style.use('seaborn-poster')\n",
    "from statsmodels.graphics.api import qqplot\n",
    "%matplotlib inline\n",
    "from matplotlib.pylab import rcParams\n",
    "rcParams['figure.figsize'] = 10,6\n",
    "import pmdarima as pm\n",
    "from pmdarima.model_selection import train_test_split\n",
    "from sklearn.preprocessing import StandardScaler\n",
    "from sklearn.preprocessing import MinMaxScaler\n",
    "from statsmodels.tsa.seasonal import seasonal_decompose\n",
    "import itertools \n",
    "from sklearn.ensemble import RandomForestRegressor\n",
    "import xgboost as xg\n",
    "from prophet import Prophet\n",
    "from prophet.plot import plot_plotly, plot_components_plotly"
   ]
  },
  {
   "cell_type": "markdown",
   "id": "bac71b06",
   "metadata": {},
   "source": [
    "#### Bitcon Daily Data from Sept 17 2017 to July 27 2022 (Almost 5 years) "
   ]
  },
  {
   "cell_type": "code",
   "execution_count": 2,
   "id": "589fce10",
   "metadata": {},
   "outputs": [
    {
     "data": {
      "text/html": [
       "<div>\n",
       "<style scoped>\n",
       "    .dataframe tbody tr th:only-of-type {\n",
       "        vertical-align: middle;\n",
       "    }\n",
       "\n",
       "    .dataframe tbody tr th {\n",
       "        vertical-align: top;\n",
       "    }\n",
       "\n",
       "    .dataframe thead th {\n",
       "        text-align: right;\n",
       "    }\n",
       "</style>\n",
       "<table border=\"1\" class=\"dataframe\">\n",
       "  <thead>\n",
       "    <tr style=\"text-align: right;\">\n",
       "      <th></th>\n",
       "      <th>Open</th>\n",
       "      <th>High</th>\n",
       "      <th>Low</th>\n",
       "      <th>Close</th>\n",
       "      <th>Adj Close</th>\n",
       "      <th>Volume</th>\n",
       "    </tr>\n",
       "    <tr>\n",
       "      <th>Date</th>\n",
       "      <th></th>\n",
       "      <th></th>\n",
       "      <th></th>\n",
       "      <th></th>\n",
       "      <th></th>\n",
       "      <th></th>\n",
       "    </tr>\n",
       "  </thead>\n",
       "  <tbody>\n",
       "    <tr>\n",
       "      <th>2017-07-28</th>\n",
       "      <td>2679.729980</td>\n",
       "      <td>2897.449951</td>\n",
       "      <td>2679.729980</td>\n",
       "      <td>2809.010010</td>\n",
       "      <td>2809.010010</td>\n",
       "      <td>1.380100e+09</td>\n",
       "    </tr>\n",
       "    <tr>\n",
       "      <th>2017-07-29</th>\n",
       "      <td>2807.020020</td>\n",
       "      <td>2808.760010</td>\n",
       "      <td>2692.800049</td>\n",
       "      <td>2726.449951</td>\n",
       "      <td>2726.449951</td>\n",
       "      <td>8.037460e+08</td>\n",
       "    </tr>\n",
       "    <tr>\n",
       "      <th>2017-07-30</th>\n",
       "      <td>2724.389893</td>\n",
       "      <td>2758.530029</td>\n",
       "      <td>2644.850098</td>\n",
       "      <td>2757.179932</td>\n",
       "      <td>2757.179932</td>\n",
       "      <td>7.059430e+08</td>\n",
       "    </tr>\n",
       "    <tr>\n",
       "      <th>2017-07-31</th>\n",
       "      <td>2763.239990</td>\n",
       "      <td>2889.620117</td>\n",
       "      <td>2720.610107</td>\n",
       "      <td>2875.340088</td>\n",
       "      <td>2875.340088</td>\n",
       "      <td>8.605750e+08</td>\n",
       "    </tr>\n",
       "    <tr>\n",
       "      <th>2017-08-01</th>\n",
       "      <td>2871.300049</td>\n",
       "      <td>2921.350098</td>\n",
       "      <td>2685.610107</td>\n",
       "      <td>2718.260010</td>\n",
       "      <td>2718.260010</td>\n",
       "      <td>1.324670e+09</td>\n",
       "    </tr>\n",
       "  </tbody>\n",
       "</table>\n",
       "</div>"
      ],
      "text/plain": [
       "                   Open         High          Low        Close    Adj Close  \\\n",
       "Date                                                                          \n",
       "2017-07-28  2679.729980  2897.449951  2679.729980  2809.010010  2809.010010   \n",
       "2017-07-29  2807.020020  2808.760010  2692.800049  2726.449951  2726.449951   \n",
       "2017-07-30  2724.389893  2758.530029  2644.850098  2757.179932  2757.179932   \n",
       "2017-07-31  2763.239990  2889.620117  2720.610107  2875.340088  2875.340088   \n",
       "2017-08-01  2871.300049  2921.350098  2685.610107  2718.260010  2718.260010   \n",
       "\n",
       "                  Volume  \n",
       "Date                      \n",
       "2017-07-28  1.380100e+09  \n",
       "2017-07-29  8.037460e+08  \n",
       "2017-07-30  7.059430e+08  \n",
       "2017-07-31  8.605750e+08  \n",
       "2017-08-01  1.324670e+09  "
      ]
     },
     "execution_count": 2,
     "metadata": {},
     "output_type": "execute_result"
    }
   ],
   "source": [
    "df = pd.read_csv('../Data/BTC-USD(3)', index_col=[0],parse_dates=['Date'])\n",
    "df.head()"
   ]
  },
  {
   "cell_type": "markdown",
   "id": "015a93d4",
   "metadata": {},
   "source": [
    "### Train and Test Split"
   ]
  },
  {
   "cell_type": "code",
   "execution_count": 3,
   "id": "09fdef0a",
   "metadata": {},
   "outputs": [],
   "source": [
    "df_new=df.reset_index()"
   ]
  },
  {
   "cell_type": "code",
   "execution_count": 4,
   "id": "b2206871",
   "metadata": {},
   "outputs": [],
   "source": [
    "df_total = df['Close']"
   ]
  },
  {
   "cell_type": "code",
   "execution_count": 5,
   "id": "cb1c2d41",
   "metadata": {},
   "outputs": [
    {
     "data": {
      "text/html": [
       "<div>\n",
       "<style scoped>\n",
       "    .dataframe tbody tr th:only-of-type {\n",
       "        vertical-align: middle;\n",
       "    }\n",
       "\n",
       "    .dataframe tbody tr th {\n",
       "        vertical-align: top;\n",
       "    }\n",
       "\n",
       "    .dataframe thead th {\n",
       "        text-align: right;\n",
       "    }\n",
       "</style>\n",
       "<table border=\"1\" class=\"dataframe\">\n",
       "  <thead>\n",
       "    <tr style=\"text-align: right;\">\n",
       "      <th></th>\n",
       "      <th>Close</th>\n",
       "    </tr>\n",
       "    <tr>\n",
       "      <th>Date</th>\n",
       "      <th></th>\n",
       "    </tr>\n",
       "  </thead>\n",
       "  <tbody>\n",
       "    <tr>\n",
       "      <th>2017-07-28</th>\n",
       "      <td>2809.010010</td>\n",
       "    </tr>\n",
       "    <tr>\n",
       "      <th>2017-07-29</th>\n",
       "      <td>2726.449951</td>\n",
       "    </tr>\n",
       "    <tr>\n",
       "      <th>2017-07-30</th>\n",
       "      <td>2757.179932</td>\n",
       "    </tr>\n",
       "    <tr>\n",
       "      <th>2017-07-31</th>\n",
       "      <td>2875.340088</td>\n",
       "    </tr>\n",
       "    <tr>\n",
       "      <th>2017-08-01</th>\n",
       "      <td>2718.260010</td>\n",
       "    </tr>\n",
       "    <tr>\n",
       "      <th>...</th>\n",
       "      <td>...</td>\n",
       "    </tr>\n",
       "    <tr>\n",
       "      <th>2021-07-23</th>\n",
       "      <td>33581.550780</td>\n",
       "    </tr>\n",
       "    <tr>\n",
       "      <th>2021-07-24</th>\n",
       "      <td>34292.445310</td>\n",
       "    </tr>\n",
       "    <tr>\n",
       "      <th>2021-07-25</th>\n",
       "      <td>35350.187500</td>\n",
       "    </tr>\n",
       "    <tr>\n",
       "      <th>2021-07-26</th>\n",
       "      <td>37337.535160</td>\n",
       "    </tr>\n",
       "    <tr>\n",
       "      <th>2021-07-27</th>\n",
       "      <td>39406.941410</td>\n",
       "    </tr>\n",
       "  </tbody>\n",
       "</table>\n",
       "<p>1461 rows × 1 columns</p>\n",
       "</div>"
      ],
      "text/plain": [
       "                   Close\n",
       "Date                    \n",
       "2017-07-28   2809.010010\n",
       "2017-07-29   2726.449951\n",
       "2017-07-30   2757.179932\n",
       "2017-07-31   2875.340088\n",
       "2017-08-01   2718.260010\n",
       "...                  ...\n",
       "2021-07-23  33581.550780\n",
       "2021-07-24  34292.445310\n",
       "2021-07-25  35350.187500\n",
       "2021-07-26  37337.535160\n",
       "2021-07-27  39406.941410\n",
       "\n",
       "[1461 rows x 1 columns]"
      ]
     },
     "execution_count": 5,
     "metadata": {},
     "output_type": "execute_result"
    }
   ],
   "source": [
    "df_train=df_new[df_new['Date']<\"2021-07-28\"]\n",
    "df_train.set_index('Date', inplace=True)\n",
    "data_train = df_train[['Close']]\n",
    "data_train"
   ]
  },
  {
   "cell_type": "code",
   "execution_count": 6,
   "id": "36487e16",
   "metadata": {},
   "outputs": [
    {
     "data": {
      "text/html": [
       "<div>\n",
       "<style scoped>\n",
       "    .dataframe tbody tr th:only-of-type {\n",
       "        vertical-align: middle;\n",
       "    }\n",
       "\n",
       "    .dataframe tbody tr th {\n",
       "        vertical-align: top;\n",
       "    }\n",
       "\n",
       "    .dataframe thead th {\n",
       "        text-align: right;\n",
       "    }\n",
       "</style>\n",
       "<table border=\"1\" class=\"dataframe\">\n",
       "  <thead>\n",
       "    <tr style=\"text-align: right;\">\n",
       "      <th></th>\n",
       "      <th>Close</th>\n",
       "    </tr>\n",
       "    <tr>\n",
       "      <th>Date</th>\n",
       "      <th></th>\n",
       "    </tr>\n",
       "  </thead>\n",
       "  <tbody>\n",
       "    <tr>\n",
       "      <th>2021-07-28</th>\n",
       "      <td>39995.90625</td>\n",
       "    </tr>\n",
       "    <tr>\n",
       "      <th>2021-07-29</th>\n",
       "      <td>40008.42188</td>\n",
       "    </tr>\n",
       "    <tr>\n",
       "      <th>2021-07-30</th>\n",
       "      <td>42235.54688</td>\n",
       "    </tr>\n",
       "    <tr>\n",
       "      <th>2021-07-31</th>\n",
       "      <td>41626.19531</td>\n",
       "    </tr>\n",
       "    <tr>\n",
       "      <th>2021-08-01</th>\n",
       "      <td>39974.89453</td>\n",
       "    </tr>\n",
       "    <tr>\n",
       "      <th>...</th>\n",
       "      <td>...</td>\n",
       "    </tr>\n",
       "    <tr>\n",
       "      <th>2022-07-23</th>\n",
       "      <td>22465.47852</td>\n",
       "    </tr>\n",
       "    <tr>\n",
       "      <th>2022-07-24</th>\n",
       "      <td>22609.16406</td>\n",
       "    </tr>\n",
       "    <tr>\n",
       "      <th>2022-07-25</th>\n",
       "      <td>21361.70117</td>\n",
       "    </tr>\n",
       "    <tr>\n",
       "      <th>2022-07-26</th>\n",
       "      <td>21239.75391</td>\n",
       "    </tr>\n",
       "    <tr>\n",
       "      <th>2022-07-27</th>\n",
       "      <td>22930.54883</td>\n",
       "    </tr>\n",
       "  </tbody>\n",
       "</table>\n",
       "<p>365 rows × 1 columns</p>\n",
       "</div>"
      ],
      "text/plain": [
       "                  Close\n",
       "Date                   \n",
       "2021-07-28  39995.90625\n",
       "2021-07-29  40008.42188\n",
       "2021-07-30  42235.54688\n",
       "2021-07-31  41626.19531\n",
       "2021-08-01  39974.89453\n",
       "...                 ...\n",
       "2022-07-23  22465.47852\n",
       "2022-07-24  22609.16406\n",
       "2022-07-25  21361.70117\n",
       "2022-07-26  21239.75391\n",
       "2022-07-27  22930.54883\n",
       "\n",
       "[365 rows x 1 columns]"
      ]
     },
     "execution_count": 6,
     "metadata": {},
     "output_type": "execute_result"
    }
   ],
   "source": [
    "df_test=df_new[df_new['Date']>=\"2021-07-28\"]\n",
    "df_test.set_index('Date', inplace=True)\n",
    "data_test = df_test[['Close']]\n",
    "data_test"
   ]
  },
  {
   "cell_type": "code",
   "execution_count": 7,
   "id": "ffae905c",
   "metadata": {},
   "outputs": [
    {
     "data": {
      "text/plain": [
       "Test Statistic                   -0.562305\n",
       "p-value                           0.879274\n",
       "#lags Used                       24.000000\n",
       "Number of Observations Used    1436.000000\n",
       "dtype: float64"
      ]
     },
     "execution_count": 7,
     "metadata": {},
     "output_type": "execute_result"
    }
   ],
   "source": [
    "from statsmodels.tsa.stattools import adfuller\n",
    "dftest = adfuller(data_train, autolag='AIC')\n",
    "dfoutput = pd.Series(dftest[0:4], index=['Test Statistic', 'p-value', '#lags Used', 'Number of Observations Used'])\n",
    "dfoutput "
   ]
  },
  {
   "cell_type": "code",
   "execution_count": 8,
   "id": "e3b88c27",
   "metadata": {},
   "outputs": [
    {
     "data": {
      "text/plain": [
       "<AxesSubplot:xlabel='Date'>"
      ]
     },
     "execution_count": 8,
     "metadata": {},
     "output_type": "execute_result"
    },
    {
     "data": {
      "image/png": "[encoded data removed]",
      "text/plain": [
       "<Figure size 720x432 with 1 Axes>"
      ]
     },
     "metadata": {
      "needs_background": "light"
     },
     "output_type": "display_data"
    }
   ],
   "source": [
    "data_train.plot()"
   ]
  },
  {
   "cell_type": "code",
   "execution_count": 9,
   "id": "d1e60293",
   "metadata": {},
   "outputs": [
    {
     "name": "stdout",
     "output_type": "stream",
     "text": [
      "Dickey–Fuller test: p=0.879274\n"
     ]
    },
    {
     "data": {
      "text/plain": [
       "<Figure size 7200x2880 with 0 Axes>"
      ]
     },
     "metadata": {},
     "output_type": "display_data"
    },
    {
     "data": {
      "image/png": "[encoded data removed]",
      "text/plain": [
       "<Figure size 720x432 with 4 Axes>"
      ]
     },
     "metadata": {
      "needs_background": "light"
     },
     "output_type": "display_data"
    }
   ],
   "source": [
    "plt.figure(figsize=[100,40])\n",
    "sm.tsa.seasonal_decompose(data_train).plot()\n",
    "print(\"Dickey–Fuller test: p=%f\" % sm.tsa.stattools.adfuller(data_train)[1])\n",
    "plt.show()"
   ]
  },
  {
   "cell_type": "markdown",
   "id": "1e68a1fa",
   "metadata": {},
   "source": [
    "## You can not see a proper visible trend in the data and there is absolutely NO seasonality"
   ]
  },
  {
   "cell_type": "code",
   "execution_count": 10,
   "id": "eb73fdb8",
   "metadata": {},
   "outputs": [
    {
     "data": {
      "image/png": "[encoded data removed]",
      "text/plain": [
       "<Figure size 864x576 with 2 Axes>"
      ]
     },
     "metadata": {
      "needs_background": "light"
     },
     "output_type": "display_data"
    }
   ],
   "source": [
    "%matplotlib inline\n",
    "fig = plt.figure(figsize=(12,8))\n",
    "ax1 = fig.add_subplot(211)\n",
    "fig = sm.graphics.tsa.plot_acf(data_train.values.squeeze(), lags=40, ax=ax1)\n",
    "ax2 = fig.add_subplot(212)\n",
    "fig = sm.graphics.tsa.plot_pacf(data_train, lags=40, ax=ax2)"
   ]
  },
  {
   "cell_type": "code",
   "execution_count": 11,
   "id": "9e8d5503",
   "metadata": {},
   "outputs": [
    {
     "name": "stdout",
     "output_type": "stream",
     "text": [
      "Dickey–Fuller test: p=0.444260\n"
     ]
    }
   ],
   "source": [
    "data_train['Boxcox'], lmbda = stats.boxcox(data_train.Close)\n",
    "print(\"Dickey–Fuller test: p=%f\" % sm.tsa.stattools.adfuller(data_train.Boxcox)[1])"
   ]
  },
  {
   "cell_type": "code",
   "execution_count": 12,
   "id": "59e9ddb0",
   "metadata": {},
   "outputs": [
    {
     "name": "stdout",
     "output_type": "stream",
     "text": [
      "Test Statistic: 0.607334\n",
      "p-value: 0.010000\n",
      "Critical values:\n",
      "\t10%: 0.119\n",
      "\t5%: 0.146\n",
      "\t2.5%: 0.176\n",
      "\t1%: 0.216\n"
     ]
    }
   ],
   "source": [
    "result_kpss_ct=kpss(data_train['Boxcox'],regression=\"ct\")\n",
    "print('Test Statistic: %f' %result_kpss_ct[0])\n",
    "print('p-value: %f' %result_kpss_ct[1])\n",
    "print('Critical values:')\n",
    "for key, value in result_kpss_ct[3].items():\n",
    "     print('\\t%s: %.3f' %(key, value))"
   ]
  },
  {
   "cell_type": "code",
   "execution_count": 13,
   "id": "4e25fcea",
   "metadata": {},
   "outputs": [],
   "source": [
    "df_boxcox = data_train[['Boxcox']]"
   ]
  },
  {
   "cell_type": "markdown",
   "id": "48127416",
   "metadata": {},
   "source": [
    "## Not Stationary with Boxcox, however the p-value has been decrease a lot from 0.879 to 0.444 in Dickey Fuller Test "
   ]
  },
  {
   "cell_type": "markdown",
   "id": "f5b2ae2c",
   "metadata": {},
   "source": [
    "## Log Transformation"
   ]
  },
  {
   "cell_type": "code",
   "execution_count": 14,
   "id": "4004ec1d",
   "metadata": {},
   "outputs": [],
   "source": [
    "df_log = np.log(data_train['Close'])"
   ]
  },
  {
   "cell_type": "code",
   "execution_count": 15,
   "id": "8d7a04f8",
   "metadata": {},
   "outputs": [
    {
     "data": {
      "text/plain": [
       "Test Statistic                   -0.977020\n",
       "p-value                           0.761553\n",
       "#lags Used                       10.000000\n",
       "Number of Observations Used    1450.000000\n",
       "dtype: float64"
      ]
     },
     "execution_count": 15,
     "metadata": {},
     "output_type": "execute_result"
    }
   ],
   "source": [
    "dftest = adfuller(df_log, autolag='AIC')\n",
    "dfoutput1 = pd.Series(dftest[0:4], index=['Test Statistic', 'p-value', '#lags Used', 'Number of Observations Used'])\n",
    "dfoutput1"
   ]
  },
  {
   "cell_type": "markdown",
   "id": "69224120",
   "metadata": {},
   "source": [
    "## NOT Stationary p-value is little decrease with log from actual dataset but it is very high although 0.761"
   ]
  },
  {
   "cell_type": "markdown",
   "id": "fbe72836",
   "metadata": {},
   "source": [
    "## Cube Root Transformation"
   ]
  },
  {
   "cell_type": "code",
   "execution_count": 16,
   "id": "b550a569",
   "metadata": {},
   "outputs": [
    {
     "data": {
      "text/plain": [
       "Date\n",
       "2017-07-28    14.109699\n",
       "2017-07-29    13.970089\n",
       "2017-07-30    14.022379\n",
       "2017-07-31    14.219896\n",
       "2017-08-01    13.956087\n",
       "                ...    \n",
       "2021-07-23    32.262666\n",
       "2021-07-24    32.488736\n",
       "2021-07-25    32.819395\n",
       "2021-07-26    33.423240\n",
       "2021-07-27    34.029657\n",
       "Name: Close, Length: 1461, dtype: float64"
      ]
     },
     "execution_count": 16,
     "metadata": {},
     "output_type": "execute_result"
    }
   ],
   "source": [
    "df_cbrt = np.cbrt(data_train['Close'])\n",
    "df_cbrt"
   ]
  },
  {
   "cell_type": "code",
   "execution_count": 17,
   "id": "30837ae2",
   "metadata": {},
   "outputs": [
    {
     "data": {
      "text/plain": [
       "Test Statistic                   -0.529012\n",
       "p-value                           0.886230\n",
       "#lags Used                       23.000000\n",
       "Number of Observations Used    1437.000000\n",
       "dtype: float64"
      ]
     },
     "execution_count": 17,
     "metadata": {},
     "output_type": "execute_result"
    }
   ],
   "source": [
    "dftest = adfuller(df_cbrt, autolag='AIC')\n",
    "dfoutput1 = pd.Series(dftest[0:4], index=['Test Statistic', 'p-value', '#lags Used', 'Number of Observations Used'])\n",
    "dfoutput1"
   ]
  },
  {
   "cell_type": "markdown",
   "id": "0994eca5",
   "metadata": {},
   "source": [
    "## Cube Root is Even bad 0.88"
   ]
  },
  {
   "cell_type": "markdown",
   "id": "50f2cefa",
   "metadata": {},
   "source": [
    "## Standardization Transformation"
   ]
  },
  {
   "cell_type": "code",
   "execution_count": 18,
   "id": "dbd58404",
   "metadata": {},
   "outputs": [],
   "source": [
    "data_train_np = data_train['Close'].to_numpy().reshape(-1, 1)"
   ]
  },
  {
   "cell_type": "code",
   "execution_count": 19,
   "id": "83d04b56",
   "metadata": {},
   "outputs": [
    {
     "name": "stdout",
     "output_type": "stream",
     "text": [
      "[[-0.79633575]\n",
      " [-0.8024266 ]\n",
      " [-0.8001595 ]\n",
      " ...\n",
      " [ 1.60438158]\n",
      " [ 1.75099766]\n",
      " [ 1.90366759]]\n"
     ]
    }
   ],
   "source": [
    "# fit transform\n",
    "transformer = StandardScaler()\n",
    "transformer.fit(data_train_np)\n",
    "# difference transform\n",
    "df_std = transformer.transform(data_train_np)\n",
    "print(df_std)"
   ]
  },
  {
   "cell_type": "code",
   "execution_count": 20,
   "id": "5fc44346",
   "metadata": {},
   "outputs": [
    {
     "data": {
      "text/plain": [
       "Test Statistic                   -0.562305\n",
       "p-value                           0.879274\n",
       "#lags Used                       24.000000\n",
       "Number of Observations Used    1436.000000\n",
       "dtype: float64"
      ]
     },
     "execution_count": 20,
     "metadata": {},
     "output_type": "execute_result"
    }
   ],
   "source": [
    "dftest = adfuller(df_std, autolag='AIC')\n",
    "dfoutput1 = pd.Series(dftest[0:4], index=['Test Statistic', 'p-value', '#lags Used', 'Number of Observations Used'])\n",
    "dfoutput1"
   ]
  },
  {
   "cell_type": "markdown",
   "id": "b2da06ea",
   "metadata": {},
   "source": [
    "## Not at all Stationary"
   ]
  },
  {
   "cell_type": "markdown",
   "id": "16c33d0c",
   "metadata": {},
   "source": [
    "## Normalization Transformation"
   ]
  },
  {
   "cell_type": "code",
   "execution_count": 21,
   "id": "e5bce6b8",
   "metadata": {},
   "outputs": [
    {
     "name": "stdout",
     "output_type": "stream",
     "text": [
      "[[1.61762756e-03]\n",
      " [2.59570744e-04]\n",
      " [7.65058031e-04]\n",
      " ...\n",
      " [5.36897865e-01]\n",
      " [5.69588382e-01]\n",
      " [6.03628707e-01]]\n"
     ]
    }
   ],
   "source": [
    "transformer = MinMaxScaler()\n",
    "transformer.fit(data_train_np)\n",
    "df_norm = transformer.transform(data_train_np)\n",
    "print(df_norm)"
   ]
  },
  {
   "cell_type": "code",
   "execution_count": 22,
   "id": "865241d5",
   "metadata": {},
   "outputs": [
    {
     "data": {
      "text/plain": [
       "Test Statistic                   -0.562305\n",
       "p-value                           0.879274\n",
       "#lags Used                       24.000000\n",
       "Number of Observations Used    1436.000000\n",
       "dtype: float64"
      ]
     },
     "execution_count": 22,
     "metadata": {},
     "output_type": "execute_result"
    }
   ],
   "source": [
    "dftest = adfuller(df_norm, autolag='AIC')\n",
    "dfoutput1 = pd.Series(dftest[0:4], index=['Test Statistic', 'p-value', '#lags Used', 'Number of Observations Used'])\n",
    "dfoutput1"
   ]
  },
  {
   "cell_type": "markdown",
   "id": "8dc25e62",
   "metadata": {},
   "source": [
    "## Not at all Stationary"
   ]
  },
  {
   "cell_type": "markdown",
   "id": "04946cda",
   "metadata": {},
   "source": [
    "## Difffernce Transformation"
   ]
  },
  {
   "cell_type": "code",
   "execution_count": 23,
   "id": "5c0c46d7",
   "metadata": {},
   "outputs": [],
   "source": [
    "df_diffonly = data_train['Close'].diff().dropna()"
   ]
  },
  {
   "cell_type": "code",
   "execution_count": 24,
   "id": "97a4e630",
   "metadata": {},
   "outputs": [
    {
     "data": {
      "text/plain": [
       "Test Statistic                -7.145689e+00\n",
       "p-value                        3.237350e-10\n",
       "#lags Used                     2.400000e+01\n",
       "Number of Observations Used    1.435000e+03\n",
       "dtype: float64"
      ]
     },
     "execution_count": 24,
     "metadata": {},
     "output_type": "execute_result"
    }
   ],
   "source": [
    "dftest = adfuller(df_diffonly, autolag='AIC')\n",
    "dfoutput1 = pd.Series(dftest[0:4], index=['Test Statistic', 'p-value', '#lags Used', 'Number of Observations Used'])\n",
    "dfoutput1"
   ]
  },
  {
   "cell_type": "markdown",
   "id": "433186c8",
   "metadata": {},
   "source": [
    "## IT is Very Very Near to Stationary"
   ]
  },
  {
   "cell_type": "code",
   "execution_count": 25,
   "id": "bca884cd",
   "metadata": {},
   "outputs": [
    {
     "data": {
      "text/plain": [
       "<AxesSubplot:xlabel='Date'>"
      ]
     },
     "execution_count": 25,
     "metadata": {},
     "output_type": "execute_result"
    },
    {
     "data": {
      "image/png": "[encoded data removed]",
      "text/plain": [
       "<Figure size 432x288 with 1 Axes>"
      ]
     },
     "metadata": {
      "needs_background": "light"
     },
     "output_type": "display_data"
    }
   ],
   "source": [
    "df_diffonly.plot()"
   ]
  },
  {
   "cell_type": "markdown",
   "id": "c1d5a91a",
   "metadata": {},
   "source": [
    "## Square Root Transformation and difference Transform"
   ]
  },
  {
   "cell_type": "code",
   "execution_count": 26,
   "id": "b33df0ae",
   "metadata": {},
   "outputs": [
    {
     "name": "stdout",
     "output_type": "stream",
     "text": [
      "Date\n",
      "2017-07-28     53.000094\n",
      "2017-07-29     52.215419\n",
      "2017-07-30     52.508856\n",
      "2017-07-31     53.622198\n",
      "2017-08-01     52.136935\n",
      "                 ...    \n",
      "2021-07-23    183.252697\n",
      "2021-07-24    185.182195\n",
      "2021-07-25    188.016455\n",
      "2021-07-26    193.229230\n",
      "2021-07-27    198.511817\n",
      "Name: Close, Length: 1461, dtype: float64\n"
     ]
    }
   ],
   "source": [
    "df_sqrt = np.sqrt(data_train['Close'])\n",
    "print(df_sqrt)\n",
    "df_diff = df_sqrt.diff().dropna()"
   ]
  },
  {
   "cell_type": "code",
   "execution_count": 27,
   "id": "5b1d238c",
   "metadata": {},
   "outputs": [
    {
     "data": {
      "text/plain": [
       "Date\n",
       "2017-07-29   -0.784676\n",
       "2017-07-30    0.293437\n",
       "2017-07-31    1.113342\n",
       "2017-08-01   -1.485263\n",
       "2017-08-02   -0.072841\n",
       "                ...   \n",
       "2021-07-23    3.494232\n",
       "2021-07-24    1.929498\n",
       "2021-07-25    2.834260\n",
       "2021-07-26    5.212774\n",
       "2021-07-27    5.282587\n",
       "Name: Close, Length: 1460, dtype: float64"
      ]
     },
     "execution_count": 27,
     "metadata": {},
     "output_type": "execute_result"
    }
   ],
   "source": [
    "df_diff"
   ]
  },
  {
   "cell_type": "code",
   "execution_count": 28,
   "id": "45448e69",
   "metadata": {},
   "outputs": [
    {
     "data": {
      "text/plain": [
       "Test Statistic                   -0.506426\n",
       "p-value                           0.890756\n",
       "#lags Used                       24.000000\n",
       "Number of Observations Used    1436.000000\n",
       "dtype: float64"
      ]
     },
     "execution_count": 28,
     "metadata": {},
     "output_type": "execute_result"
    }
   ],
   "source": [
    "dftest = adfuller(df_sqrt, autolag='AIC')\n",
    "dfoutput1 = pd.Series(dftest[0:4], index=['Test Statistic', 'p-value', '#lags Used', 'Number of Observations Used'])\n",
    "dfoutput1"
   ]
  },
  {
   "cell_type": "markdown",
   "id": "3576a1f5",
   "metadata": {},
   "source": [
    "## NOT Stationary- Sqrt is even bad"
   ]
  },
  {
   "cell_type": "code",
   "execution_count": 29,
   "id": "1f0b9dfc",
   "metadata": {},
   "outputs": [
    {
     "data": {
      "text/plain": [
       "Test Statistic                -7.454900e+00\n",
       "p-value                        5.545411e-11\n",
       "#lags Used                     2.300000e+01\n",
       "Number of Observations Used    1.436000e+03\n",
       "dtype: float64"
      ]
     },
     "execution_count": 29,
     "metadata": {},
     "output_type": "execute_result"
    }
   ],
   "source": [
    "dftest = adfuller(df_diff, autolag='AIC')\n",
    "dfoutput1 = pd.Series(dftest[0:4], index=['Test Statistic', 'p-value', '#lags Used', 'Number of Observations Used'])\n",
    "dfoutput1"
   ]
  },
  {
   "cell_type": "code",
   "execution_count": 30,
   "id": "747b42e9",
   "metadata": {},
   "outputs": [
    {
     "name": "stdout",
     "output_type": "stream",
     "text": [
      "Test Statistic: 0.088089\n",
      "p-value: 0.100000\n",
      "Critical values:\n",
      "\t10%: 0.119\n",
      "\t5%: 0.146\n",
      "\t2.5%: 0.176\n",
      "\t1%: 0.216\n"
     ]
    }
   ],
   "source": [
    "result_kpss_ct=kpss(df_diff,regression=\"ct\")\n",
    "print('Test Statistic: %f' %result_kpss_ct[0])\n",
    "print('p-value: %f' %result_kpss_ct[1])\n",
    "print('Critical values:')\n",
    "for key, value in result_kpss_ct[3].items():\n",
    "     print('\\t%s: %.3f' %(key, value))"
   ]
  },
  {
   "cell_type": "markdown",
   "id": "f7775185",
   "metadata": {},
   "source": [
    "## With difference transformation and after Square Root is Very Very Near to Stationary "
   ]
  },
  {
   "cell_type": "code",
   "execution_count": 31,
   "id": "4d3ad72b",
   "metadata": {},
   "outputs": [
    {
     "data": {
      "image/png": "[encoded data removed]",
      "text/plain": [
       "<Figure size 1008x576 with 4 Axes>"
      ]
     },
     "metadata": {
      "needs_background": "light"
     },
     "output_type": "display_data"
    }
   ],
   "source": [
    "plt.rc('figure',figsize=(14,8))\n",
    "plt.rc('font',size=15)\n",
    "result = seasonal_decompose(df_diff,model='additive')\n",
    "fig = result.plot()"
   ]
  },
  {
   "cell_type": "markdown",
   "id": "04709a5e",
   "metadata": {},
   "source": [
    "### Not Such Trend and Not at all Seasonality"
   ]
  },
  {
   "cell_type": "markdown",
   "id": "31154e35",
   "metadata": {},
   "source": [
    "# Applying Model\n",
    "# ARIMA"
   ]
  },
  {
   "cell_type": "markdown",
   "id": "b92f3ad8",
   "metadata": {},
   "source": [
    "## Choosing Hyperparameters for my models p,q and d"
   ]
  },
  {
   "cell_type": "markdown",
   "id": "9b33ab9e",
   "metadata": {},
   "source": [
    "## There 3 methods \n",
    "### 1. ACF and PACF Plots\n",
    "### 2. For Loop (passing all the possible combination of p,q, and d)\n",
    "### 3. AUTO_ARIMA Function"
   ]
  },
  {
   "cell_type": "code",
   "execution_count": 32,
   "id": "214d82c2",
   "metadata": {},
   "outputs": [
    {
     "data": {
      "text/plain": [
       "<AxesSubplot:xlabel='Date'>"
      ]
     },
     "execution_count": 32,
     "metadata": {},
     "output_type": "execute_result"
    },
    {
     "data": {
      "image/png": "[encoded data removed]",
      "text/plain": [
       "<Figure size 1008x576 with 1 Axes>"
      ]
     },
     "metadata": {
      "needs_background": "light"
     },
     "output_type": "display_data"
    }
   ],
   "source": [
    "df_diff.plot()"
   ]
  },
  {
   "cell_type": "code",
   "execution_count": 33,
   "id": "338bf01f",
   "metadata": {},
   "outputs": [
    {
     "data": {
      "image/png": "[encoded data removed]",
      "text/plain": [
       "<Figure size 864x576 with 2 Axes>"
      ]
     },
     "metadata": {
      "needs_background": "light"
     },
     "output_type": "display_data"
    }
   ],
   "source": [
    "%matplotlib inline\n",
    "fig = plt.figure(figsize=(12,8))\n",
    "ax1 = fig.add_subplot(211)\n",
    "fig = sm.graphics.tsa.plot_acf(df_diff.values.squeeze(), lags=40, ax=ax1)\n",
    "\n",
    "ax2 = fig.add_subplot(212)\n",
    "fig = sm.graphics.tsa.plot_pacf(df_diff, lags=40, ax=ax2)"
   ]
  },
  {
   "cell_type": "code",
   "execution_count": 34,
   "id": "3d4e7ca0",
   "metadata": {},
   "outputs": [
    {
     "data": {
      "text/plain": [
       "(1461, 365)"
      ]
     },
     "execution_count": 34,
     "metadata": {},
     "output_type": "execute_result"
    }
   ],
   "source": [
    "len(data_train), len(data_test)"
   ]
  },
  {
   "cell_type": "code",
   "execution_count": 35,
   "id": "30ef297d",
   "metadata": {},
   "outputs": [],
   "source": [
    "p = range(0,8)\n",
    "q = range(0,8)\n",
    "d = range(0,2)"
   ]
  },
  {
   "cell_type": "code",
   "execution_count": 36,
   "id": "3a8fa868",
   "metadata": {},
   "outputs": [],
   "source": [
    "pdq_combination = list(itertools.product(p,d,q))"
   ]
  },
  {
   "cell_type": "code",
   "execution_count": 37,
   "id": "8102d82f",
   "metadata": {},
   "outputs": [
    {
     "data": {
      "text/plain": [
       "128"
      ]
     },
     "execution_count": 37,
     "metadata": {},
     "output_type": "execute_result"
    }
   ],
   "source": [
    "len(pdq_combination)"
   ]
  },
  {
   "cell_type": "code",
   "execution_count": 38,
   "id": "3821e92d",
   "metadata": {},
   "outputs": [],
   "source": [
    "test_sqs = data_test['Close'].to_list()\n",
    "def reverse_1(diffs):\n",
    "    diffss = diffs.to_list()\n",
    "    test_sqrt = [test_sq **(1/2) for test_sq in test_sqs]\n",
    "    reverse_diffs = [x + y for (x, y) in zip(test_sqrt, diffss)]\n",
    "    total_reverses = [x**2 for x in reverse_diffs]\n",
    "    return(total_reverses)"
   ]
  },
  {
   "cell_type": "code",
   "execution_count": 39,
   "id": "7e9d8eab",
   "metadata": {},
   "outputs": [],
   "source": [
    "from statsmodels.tsa.arima.model import ARIMA\n",
    "from sklearn.metrics import mean_squared_error\n",
    "rmse = []\n",
    "order1 = []\n",
    "for pdq in pdq_combination:\n",
    "    try:\n",
    "        model = ARIMA(df_diff, order=pdq).fit()\n",
    "        pred = model.predict(start=1460,end=1824)\n",
    "        pred_rev = reverse_1(pred)\n",
    "        error = np.sqrt(mean_squared_error(data_test,pred_rev))\n",
    "        order1.append(pdq)\n",
    "        rmse.append(error)\n",
    "    except:\n",
    "        print('error aaya')\n",
    "        break"
   ]
  },
  {
   "cell_type": "code",
   "execution_count": 40,
   "id": "8769da0e",
   "metadata": {},
   "outputs": [],
   "source": [
    "results = pd.DataFrame(index = order1, data = rmse, columns = ['RMSE'])"
   ]
  },
  {
   "cell_type": "code",
   "execution_count": 41,
   "id": "0e3e87ed",
   "metadata": {},
   "outputs": [
    {
     "data": {
      "text/html": [
       "<div>\n",
       "<style scoped>\n",
       "    .dataframe tbody tr th:only-of-type {\n",
       "        vertical-align: middle;\n",
       "    }\n",
       "\n",
       "    .dataframe tbody tr th {\n",
       "        vertical-align: top;\n",
       "    }\n",
       "\n",
       "    .dataframe thead th {\n",
       "        text-align: right;\n",
       "    }\n",
       "</style>\n",
       "<table border=\"1\" class=\"dataframe\">\n",
       "  <thead>\n",
       "    <tr style=\"text-align: right;\">\n",
       "      <th></th>\n",
       "      <th>RMSE</th>\n",
       "    </tr>\n",
       "  </thead>\n",
       "  <tbody>\n",
       "    <tr>\n",
       "      <th>(0, 0, 0)</th>\n",
       "      <td>40.881854</td>\n",
       "    </tr>\n",
       "    <tr>\n",
       "      <th>(0, 0, 1)</th>\n",
       "      <td>40.860533</td>\n",
       "    </tr>\n",
       "    <tr>\n",
       "      <th>(0, 0, 2)</th>\n",
       "      <td>41.671051</td>\n",
       "    </tr>\n",
       "    <tr>\n",
       "      <th>(0, 0, 3)</th>\n",
       "      <td>42.099014</td>\n",
       "    </tr>\n",
       "    <tr>\n",
       "      <th>(0, 0, 4)</th>\n",
       "      <td>43.399294</td>\n",
       "    </tr>\n",
       "    <tr>\n",
       "      <th>...</th>\n",
       "      <td>...</td>\n",
       "    </tr>\n",
       "    <tr>\n",
       "      <th>(7, 1, 3)</th>\n",
       "      <td>59.307155</td>\n",
       "    </tr>\n",
       "    <tr>\n",
       "      <th>(7, 1, 4)</th>\n",
       "      <td>100.584228</td>\n",
       "    </tr>\n",
       "    <tr>\n",
       "      <th>(7, 1, 5)</th>\n",
       "      <td>83.021557</td>\n",
       "    </tr>\n",
       "    <tr>\n",
       "      <th>(7, 1, 6)</th>\n",
       "      <td>79.748803</td>\n",
       "    </tr>\n",
       "    <tr>\n",
       "      <th>(7, 1, 7)</th>\n",
       "      <td>117.521771</td>\n",
       "    </tr>\n",
       "  </tbody>\n",
       "</table>\n",
       "<p>128 rows × 1 columns</p>\n",
       "</div>"
      ],
      "text/plain": [
       "                 RMSE\n",
       "(0, 0, 0)   40.881854\n",
       "(0, 0, 1)   40.860533\n",
       "(0, 0, 2)   41.671051\n",
       "(0, 0, 3)   42.099014\n",
       "(0, 0, 4)   43.399294\n",
       "...               ...\n",
       "(7, 1, 3)   59.307155\n",
       "(7, 1, 4)  100.584228\n",
       "(7, 1, 5)   83.021557\n",
       "(7, 1, 6)   79.748803\n",
       "(7, 1, 7)  117.521771\n",
       "\n",
       "[128 rows x 1 columns]"
      ]
     },
     "execution_count": 41,
     "metadata": {},
     "output_type": "execute_result"
    }
   ],
   "source": [
    "results"
   ]
  },
  {
   "cell_type": "code",
   "execution_count": 42,
   "id": "3caaed62",
   "metadata": {},
   "outputs": [
    {
     "data": {
      "text/html": [
       "<div>\n",
       "<style scoped>\n",
       "    .dataframe tbody tr th:only-of-type {\n",
       "        vertical-align: middle;\n",
       "    }\n",
       "\n",
       "    .dataframe tbody tr th {\n",
       "        vertical-align: top;\n",
       "    }\n",
       "\n",
       "    .dataframe thead th {\n",
       "        text-align: right;\n",
       "    }\n",
       "</style>\n",
       "<table border=\"1\" class=\"dataframe\">\n",
       "  <thead>\n",
       "    <tr style=\"text-align: right;\">\n",
       "      <th></th>\n",
       "      <th>RMSE</th>\n",
       "    </tr>\n",
       "  </thead>\n",
       "  <tbody>\n",
       "    <tr>\n",
       "      <th>(1, 1, 1)</th>\n",
       "      <td>33.400728</td>\n",
       "    </tr>\n",
       "    <tr>\n",
       "      <th>(0, 1, 2)</th>\n",
       "      <td>37.085805</td>\n",
       "    </tr>\n",
       "    <tr>\n",
       "      <th>(0, 0, 1)</th>\n",
       "      <td>40.860533</td>\n",
       "    </tr>\n",
       "    <tr>\n",
       "      <th>(0, 0, 0)</th>\n",
       "      <td>40.881854</td>\n",
       "    </tr>\n",
       "    <tr>\n",
       "      <th>(1, 0, 0)</th>\n",
       "      <td>40.902020</td>\n",
       "    </tr>\n",
       "    <tr>\n",
       "      <th>...</th>\n",
       "      <td>...</td>\n",
       "    </tr>\n",
       "    <tr>\n",
       "      <th>(4, 1, 0)</th>\n",
       "      <td>1739.899491</td>\n",
       "    </tr>\n",
       "    <tr>\n",
       "      <th>(3, 1, 0)</th>\n",
       "      <td>1838.490611</td>\n",
       "    </tr>\n",
       "    <tr>\n",
       "      <th>(2, 1, 0)</th>\n",
       "      <td>2017.222129</td>\n",
       "    </tr>\n",
       "    <tr>\n",
       "      <th>(1, 1, 0)</th>\n",
       "      <td>2183.680738</td>\n",
       "    </tr>\n",
       "    <tr>\n",
       "      <th>(0, 1, 0)</th>\n",
       "      <td>2194.072128</td>\n",
       "    </tr>\n",
       "  </tbody>\n",
       "</table>\n",
       "<p>128 rows × 1 columns</p>\n",
       "</div>"
      ],
      "text/plain": [
       "                  RMSE\n",
       "(1, 1, 1)    33.400728\n",
       "(0, 1, 2)    37.085805\n",
       "(0, 0, 1)    40.860533\n",
       "(0, 0, 0)    40.881854\n",
       "(1, 0, 0)    40.902020\n",
       "...                ...\n",
       "(4, 1, 0)  1739.899491\n",
       "(3, 1, 0)  1838.490611\n",
       "(2, 1, 0)  2017.222129\n",
       "(1, 1, 0)  2183.680738\n",
       "(0, 1, 0)  2194.072128\n",
       "\n",
       "[128 rows x 1 columns]"
      ]
     },
     "execution_count": 42,
     "metadata": {},
     "output_type": "execute_result"
    }
   ],
   "source": [
    "results.sort_values('RMSE')"
   ]
  },
  {
   "cell_type": "markdown",
   "id": "bb33d6c6",
   "metadata": {},
   "source": [
    "## Got our Best Hyperparameters that is (1,1,1) which as the minimum rmse or mse value that is 33.400728"
   ]
  },
  {
   "cell_type": "markdown",
   "id": "0e809ea8",
   "metadata": {},
   "source": [
    "## Fit Model with Best Hyperparameters (1,1,1)"
   ]
  },
  {
   "cell_type": "code",
   "execution_count": 43,
   "id": "0fa7404b",
   "metadata": {},
   "outputs": [],
   "source": [
    "model_best = ARIMA(df_diff, order=(1,1,1)).fit()"
   ]
  },
  {
   "cell_type": "code",
   "execution_count": 44,
   "id": "59cb0f31",
   "metadata": {},
   "outputs": [],
   "source": [
    "pred_best = model.predict(start=1460,end=1824)"
   ]
  },
  {
   "cell_type": "code",
   "execution_count": 45,
   "id": "9da19236",
   "metadata": {},
   "outputs": [],
   "source": [
    "pred_best_rev = reverse_1(pred_best)"
   ]
  },
  {
   "cell_type": "code",
   "execution_count": 46,
   "id": "693b1e0a",
   "metadata": {},
   "outputs": [],
   "source": [
    "data_test.rename(columns = {'Close':'test'}, inplace = True)\n",
    "data_test['pred'] = pred_best_rev"
   ]
  },
  {
   "cell_type": "code",
   "execution_count": 47,
   "id": "0705c8fc",
   "metadata": {},
   "outputs": [
    {
     "data": {
      "text/html": [
       "<div>\n",
       "<style scoped>\n",
       "    .dataframe tbody tr th:only-of-type {\n",
       "        vertical-align: middle;\n",
       "    }\n",
       "\n",
       "    .dataframe tbody tr th {\n",
       "        vertical-align: top;\n",
       "    }\n",
       "\n",
       "    .dataframe thead th {\n",
       "        text-align: right;\n",
       "    }\n",
       "</style>\n",
       "<table border=\"1\" class=\"dataframe\">\n",
       "  <thead>\n",
       "    <tr style=\"text-align: right;\">\n",
       "      <th></th>\n",
       "      <th>test</th>\n",
       "      <th>pred</th>\n",
       "    </tr>\n",
       "    <tr>\n",
       "      <th>Date</th>\n",
       "      <th></th>\n",
       "      <th></th>\n",
       "    </tr>\n",
       "  </thead>\n",
       "  <tbody>\n",
       "    <tr>\n",
       "      <th>2021-07-28</th>\n",
       "      <td>39995.90625</td>\n",
       "      <td>40015.122954</td>\n",
       "    </tr>\n",
       "    <tr>\n",
       "      <th>2021-07-29</th>\n",
       "      <td>40008.42188</td>\n",
       "      <td>39446.514103</td>\n",
       "    </tr>\n",
       "    <tr>\n",
       "      <th>2021-07-30</th>\n",
       "      <td>42235.54688</td>\n",
       "      <td>42791.305223</td>\n",
       "    </tr>\n",
       "    <tr>\n",
       "      <th>2021-07-31</th>\n",
       "      <td>41626.19531</td>\n",
       "      <td>41729.440083</td>\n",
       "    </tr>\n",
       "    <tr>\n",
       "      <th>2021-08-01</th>\n",
       "      <td>39974.89453</td>\n",
       "      <td>40076.473703</td>\n",
       "    </tr>\n",
       "    <tr>\n",
       "      <th>...</th>\n",
       "      <td>...</td>\n",
       "      <td>...</td>\n",
       "    </tr>\n",
       "    <tr>\n",
       "      <th>2022-07-23</th>\n",
       "      <td>22465.47852</td>\n",
       "      <td>22514.518922</td>\n",
       "    </tr>\n",
       "    <tr>\n",
       "      <th>2022-07-24</th>\n",
       "      <td>22609.16406</td>\n",
       "      <td>22665.399476</td>\n",
       "    </tr>\n",
       "    <tr>\n",
       "      <th>2022-07-25</th>\n",
       "      <td>21361.70117</td>\n",
       "      <td>21411.336733</td>\n",
       "    </tr>\n",
       "    <tr>\n",
       "      <th>2022-07-26</th>\n",
       "      <td>21239.75391</td>\n",
       "      <td>21277.700883</td>\n",
       "    </tr>\n",
       "    <tr>\n",
       "      <th>2022-07-27</th>\n",
       "      <td>22930.54883</td>\n",
       "      <td>22961.367306</td>\n",
       "    </tr>\n",
       "  </tbody>\n",
       "</table>\n",
       "<p>365 rows × 2 columns</p>\n",
       "</div>"
      ],
      "text/plain": [
       "                   test          pred\n",
       "Date                                 \n",
       "2021-07-28  39995.90625  40015.122954\n",
       "2021-07-29  40008.42188  39446.514103\n",
       "2021-07-30  42235.54688  42791.305223\n",
       "2021-07-31  41626.19531  41729.440083\n",
       "2021-08-01  39974.89453  40076.473703\n",
       "...                 ...           ...\n",
       "2022-07-23  22465.47852  22514.518922\n",
       "2022-07-24  22609.16406  22665.399476\n",
       "2022-07-25  21361.70117  21411.336733\n",
       "2022-07-26  21239.75391  21277.700883\n",
       "2022-07-27  22930.54883  22961.367306\n",
       "\n",
       "[365 rows x 2 columns]"
      ]
     },
     "execution_count": 47,
     "metadata": {},
     "output_type": "execute_result"
    }
   ],
   "source": [
    "data_test"
   ]
  },
  {
   "cell_type": "code",
   "execution_count": 48,
   "id": "3bcce352",
   "metadata": {},
   "outputs": [
    {
     "data": {
      "text/plain": [
       "[<matplotlib.lines.Line2D at 0x1b56b719d00>,\n",
       " <matplotlib.lines.Line2D at 0x1b56b73b670>]"
      ]
     },
     "execution_count": 48,
     "metadata": {},
     "output_type": "execute_result"
    },
    {
     "data": {
      "image/png": "[encoded data removed]",
      "text/plain": [
       "<Figure size 432x288 with 1 Axes>"
      ]
     },
     "metadata": {
      "needs_background": "light"
     },
     "output_type": "display_data"
    }
   ],
   "source": [
    "plt.plot(data_test)"
   ]
  },
  {
   "cell_type": "code",
   "execution_count": 49,
   "id": "b10c42e8",
   "metadata": {},
   "outputs": [],
   "source": [
    "error = np.sqrt(mean_squared_error(data_test['test'],data_test['pred']))"
   ]
  },
  {
   "cell_type": "code",
   "execution_count": 50,
   "id": "d89c3f71",
   "metadata": {},
   "outputs": [
    {
     "data": {
      "text/plain": [
       "117.52177100789598"
      ]
     },
     "execution_count": 50,
     "metadata": {},
     "output_type": "execute_result"
    }
   ],
   "source": [
    "error"
   ]
  },
  {
   "cell_type": "code",
   "execution_count": 51,
   "id": "625d5a8e",
   "metadata": {},
   "outputs": [
    {
     "data": {
      "text/plain": [
       "19289.016067654964"
      ]
     },
     "execution_count": 51,
     "metadata": {},
     "output_type": "execute_result"
    }
   ],
   "source": [
    "mean = df_total.mean()\n",
    "mean"
   ]
  },
  {
   "cell_type": "code",
   "execution_count": 52,
   "id": "331679f0",
   "metadata": {},
   "outputs": [
    {
     "data": {
      "text/plain": [
       "0.6092678371758105"
      ]
     },
     "execution_count": 52,
     "metadata": {},
     "output_type": "execute_result"
    }
   ],
   "source": [
    "percentage_rmse_data_mean = (error/mean)*100\n",
    "percentage_rmse_data_mean "
   ]
  },
  {
   "cell_type": "markdown",
   "id": "9733367d",
   "metadata": {},
   "source": [
    "## Predict the Unseen future "
   ]
  },
  {
   "cell_type": "code",
   "execution_count": 53,
   "id": "75c88b1b",
   "metadata": {},
   "outputs": [
    {
     "data": {
      "text/plain": [
       "Date\n",
       "2017-07-28     2809.010010\n",
       "2017-07-29     2726.449951\n",
       "2017-07-30     2757.179932\n",
       "2017-07-31     2875.340088\n",
       "2017-08-01     2718.260010\n",
       "                  ...     \n",
       "2022-07-23    22465.478520\n",
       "2022-07-24    22609.164060\n",
       "2022-07-25    21361.701170\n",
       "2022-07-26    21239.753910\n",
       "2022-07-27    22930.548830\n",
       "Name: Close, Length: 1826, dtype: float64"
      ]
     },
     "execution_count": 53,
     "metadata": {},
     "output_type": "execute_result"
    }
   ],
   "source": [
    "df_total"
   ]
  },
  {
   "cell_type": "code",
   "execution_count": 54,
   "id": "dbff6f20",
   "metadata": {},
   "outputs": [],
   "source": [
    "df_total_sqrt = np.sqrt(df_total)\n",
    "df_total_diff = df_total_sqrt.diff().dropna()"
   ]
  },
  {
   "cell_type": "code",
   "execution_count": 55,
   "id": "12041046",
   "metadata": {},
   "outputs": [
    {
     "data": {
      "text/plain": [
       "Date\n",
       "2017-07-29   -0.784676\n",
       "2017-07-30    0.293437\n",
       "2017-07-31    1.113342\n",
       "2017-08-01   -1.485263\n",
       "2017-08-02   -0.072841\n",
       "                ...   \n",
       "2022-07-23   -0.830007\n",
       "2022-07-24    0.478556\n",
       "2022-07-25   -4.207013\n",
       "2022-07-26   -0.417778\n",
       "2022-07-27    5.689713\n",
       "Name: Close, Length: 1825, dtype: float64"
      ]
     },
     "execution_count": 55,
     "metadata": {},
     "output_type": "execute_result"
    }
   ],
   "source": [
    "df_total_diff"
   ]
  },
  {
   "cell_type": "code",
   "execution_count": 56,
   "id": "ce91db7b",
   "metadata": {},
   "outputs": [],
   "source": [
    "future_model = ARIMA(df_total_diff,order = (1,1,1)).fit()"
   ]
  },
  {
   "cell_type": "code",
   "execution_count": 57,
   "id": "8116e18b",
   "metadata": {},
   "outputs": [],
   "source": [
    "pred_future = future_model.predict(start = 1825, end= 2189)"
   ]
  },
  {
   "cell_type": "code",
   "execution_count": 58,
   "id": "5b685a6c",
   "metadata": {},
   "outputs": [
    {
     "data": {
      "text/plain": [
       "2022-07-28   -0.326487\n",
       "2022-07-29   -0.175645\n",
       "2022-07-30   -0.179427\n",
       "2022-07-31   -0.179332\n",
       "2022-08-01   -0.179334\n",
       "                ...   \n",
       "2023-07-23   -0.179334\n",
       "2023-07-24   -0.179334\n",
       "2023-07-25   -0.179334\n",
       "2023-07-26   -0.179334\n",
       "2023-07-27   -0.179334\n",
       "Freq: D, Name: predicted_mean, Length: 365, dtype: float64"
      ]
     },
     "execution_count": 58,
     "metadata": {},
     "output_type": "execute_result"
    }
   ],
   "source": [
    "pred_future"
   ]
  },
  {
   "cell_type": "code",
   "execution_count": 59,
   "id": "b74f0745",
   "metadata": {},
   "outputs": [],
   "source": [
    "pred_future_rev = reverse_1(pred_future)"
   ]
  },
  {
   "cell_type": "code",
   "execution_count": 60,
   "id": "4f40fdbc",
   "metadata": {},
   "outputs": [],
   "source": [
    "final_data = pd.DataFrame(pred_future)"
   ]
  },
  {
   "cell_type": "code",
   "execution_count": 61,
   "id": "e6926fcf",
   "metadata": {},
   "outputs": [],
   "source": [
    "final_data['pred_rev'] = pred_future_rev"
   ]
  },
  {
   "cell_type": "code",
   "execution_count": 62,
   "id": "1e106be0",
   "metadata": {},
   "outputs": [
    {
     "data": {
      "text/html": [
       "<div>\n",
       "<style scoped>\n",
       "    .dataframe tbody tr th:only-of-type {\n",
       "        vertical-align: middle;\n",
       "    }\n",
       "\n",
       "    .dataframe tbody tr th {\n",
       "        vertical-align: top;\n",
       "    }\n",
       "\n",
       "    .dataframe thead th {\n",
       "        text-align: right;\n",
       "    }\n",
       "</style>\n",
       "<table border=\"1\" class=\"dataframe\">\n",
       "  <thead>\n",
       "    <tr style=\"text-align: right;\">\n",
       "      <th></th>\n",
       "      <th>predicted_mean</th>\n",
       "      <th>pred_rev</th>\n",
       "    </tr>\n",
       "  </thead>\n",
       "  <tbody>\n",
       "    <tr>\n",
       "      <th>2022-07-28</th>\n",
       "      <td>-0.326487</td>\n",
       "      <td>39865.424707</td>\n",
       "    </tr>\n",
       "    <tr>\n",
       "      <th>2022-07-29</th>\n",
       "      <td>-0.175645</td>\n",
       "      <td>39938.187382</td>\n",
       "    </tr>\n",
       "    <tr>\n",
       "      <th>2022-07-30</th>\n",
       "      <td>-0.179427</td>\n",
       "      <td>42161.829994</td>\n",
       "    </tr>\n",
       "    <tr>\n",
       "      <th>2022-07-31</th>\n",
       "      <td>-0.179332</td>\n",
       "      <td>41553.051022</td>\n",
       "    </tr>\n",
       "    <tr>\n",
       "      <th>2022-08-01</th>\n",
       "      <td>-0.179334</td>\n",
       "      <td>39903.215425</td>\n",
       "    </tr>\n",
       "    <tr>\n",
       "      <th>...</th>\n",
       "      <td>...</td>\n",
       "      <td>...</td>\n",
       "    </tr>\n",
       "    <tr>\n",
       "      <th>2023-07-23</th>\n",
       "      <td>-0.179334</td>\n",
       "      <td>22411.751651</td>\n",
       "    </tr>\n",
       "    <tr>\n",
       "      <th>2023-07-24</th>\n",
       "      <td>-0.179334</td>\n",
       "      <td>22555.265548</td>\n",
       "    </tr>\n",
       "    <tr>\n",
       "      <th>2023-07-25</th>\n",
       "      <td>-0.179334</td>\n",
       "      <td>21309.311583</td>\n",
       "    </tr>\n",
       "    <tr>\n",
       "      <th>2023-07-26</th>\n",
       "      <td>-0.179334</td>\n",
       "      <td>21187.514166</td>\n",
       "    </tr>\n",
       "    <tr>\n",
       "      <th>2023-07-27</th>\n",
       "      <td>-0.179334</td>\n",
       "      <td>22876.268364</td>\n",
       "    </tr>\n",
       "  </tbody>\n",
       "</table>\n",
       "<p>365 rows × 2 columns</p>\n",
       "</div>"
      ],
      "text/plain": [
       "            predicted_mean      pred_rev\n",
       "2022-07-28       -0.326487  39865.424707\n",
       "2022-07-29       -0.175645  39938.187382\n",
       "2022-07-30       -0.179427  42161.829994\n",
       "2022-07-31       -0.179332  41553.051022\n",
       "2022-08-01       -0.179334  39903.215425\n",
       "...                    ...           ...\n",
       "2023-07-23       -0.179334  22411.751651\n",
       "2023-07-24       -0.179334  22555.265548\n",
       "2023-07-25       -0.179334  21309.311583\n",
       "2023-07-26       -0.179334  21187.514166\n",
       "2023-07-27       -0.179334  22876.268364\n",
       "\n",
       "[365 rows x 2 columns]"
      ]
     },
     "execution_count": 62,
     "metadata": {},
     "output_type": "execute_result"
    }
   ],
   "source": [
    "final_data"
   ]
  },
  {
   "cell_type": "code",
   "execution_count": 63,
   "id": "c19a7dfa",
   "metadata": {},
   "outputs": [
    {
     "data": {
      "text/plain": [
       "<AxesSubplot:xlabel='Date'>"
      ]
     },
     "execution_count": 63,
     "metadata": {},
     "output_type": "execute_result"
    },
    {
     "data": {
      "image/png": "[encoded data removed]",
      "text/plain": [
       "<Figure size 432x288 with 1 Axes>"
      ]
     },
     "metadata": {
      "needs_background": "light"
     },
     "output_type": "display_data"
    }
   ],
   "source": [
    "df_total.plot()\n",
    "final_data['pred_rev'].plot()"
   ]
  },
  {
   "cell_type": "markdown",
   "id": "f22efe40",
   "metadata": {},
   "source": [
    "## Auto_Arima"
   ]
  },
  {
   "cell_type": "code",
   "execution_count": 64,
   "id": "78fc55c2",
   "metadata": {},
   "outputs": [],
   "source": [
    "import pmdarima as pm"
   ]
  },
  {
   "cell_type": "code",
   "execution_count": 65,
   "id": "4b2c3158",
   "metadata": {},
   "outputs": [
    {
     "name": "stdout",
     "output_type": "stream",
     "text": [
      "Performing stepwise search to minimize aic\n",
      " ARIMA(0,1,0)(0,0,0)[0] intercept   : AIC=30434.475, Time=0.03 sec\n",
      " ARIMA(1,1,0)(0,0,0)[0] intercept   : AIC=30435.221, Time=0.06 sec\n",
      " ARIMA(0,1,1)(0,0,0)[0] intercept   : AIC=30435.236, Time=0.07 sec\n",
      " ARIMA(0,1,0)(0,0,0)[0]             : AIC=30432.692, Time=0.02 sec\n",
      " ARIMA(1,1,1)(0,0,0)[0] intercept   : AIC=30437.218, Time=0.09 sec\n",
      "\n",
      "Best model:  ARIMA(0,1,0)(0,0,0)[0]          \n",
      "Total fit time: 0.276 seconds\n"
     ]
    }
   ],
   "source": [
    "model_auto = pm.auto_arima(df_total, trace = True, suppress_warnings = True, start_p=0, start_q=0, start_d=0, max_p=8, max_q=8, max_d=2) "
   ]
  },
  {
   "cell_type": "code",
   "execution_count": 66,
   "id": "51a727d2",
   "metadata": {},
   "outputs": [
    {
     "data": {
      "text/html": [
       "<table class=\"simpletable\">\n",
       "<caption>SARIMAX Results</caption>\n",
       "<tr>\n",
       "  <th>Dep. Variable:</th>           <td>y</td>        <th>  No. Observations:  </th>    <td>1826</td>   \n",
       "</tr>\n",
       "<tr>\n",
       "  <th>Model:</th>           <td>SARIMAX(0, 1, 0)</td> <th>  Log Likelihood     </th> <td>-15215.346</td>\n",
       "</tr>\n",
       "<tr>\n",
       "  <th>Date:</th>            <td>Tue, 09 Aug 2022</td> <th>  AIC                </th>  <td>30432.692</td>\n",
       "</tr>\n",
       "<tr>\n",
       "  <th>Time:</th>                <td>10:17:56</td>     <th>  BIC                </th>  <td>30438.201</td>\n",
       "</tr>\n",
       "<tr>\n",
       "  <th>Sample:</th>                  <td>0</td>        <th>  HQIC               </th>  <td>30434.724</td>\n",
       "</tr>\n",
       "<tr>\n",
       "  <th></th>                      <td> - 1826</td>     <th>                     </th>      <td> </td>    \n",
       "</tr>\n",
       "<tr>\n",
       "  <th>Covariance Type:</th>        <td>opg</td>       <th>                     </th>      <td> </td>    \n",
       "</tr>\n",
       "</table>\n",
       "<table class=\"simpletable\">\n",
       "<tr>\n",
       "     <td></td>       <th>coef</th>     <th>std err</th>      <th>z</th>      <th>P>|z|</th>  <th>[0.025</th>    <th>0.975]</th>  \n",
       "</tr>\n",
       "<tr>\n",
       "  <th>sigma2</th> <td> 1.021e+06</td> <td>  1.4e+04</td> <td>   72.842</td> <td> 0.000</td> <td> 9.93e+05</td> <td> 1.05e+06</td>\n",
       "</tr>\n",
       "</table>\n",
       "<table class=\"simpletable\">\n",
       "<tr>\n",
       "  <th>Ljung-Box (L1) (Q):</th>     <td>1.25</td>  <th>  Jarque-Bera (JB):  </th> <td>7057.37</td>\n",
       "</tr>\n",
       "<tr>\n",
       "  <th>Prob(Q):</th>                <td>0.26</td>  <th>  Prob(JB):          </th>  <td>0.00</td>  \n",
       "</tr>\n",
       "<tr>\n",
       "  <th>Heteroskedasticity (H):</th> <td>14.86</td> <th>  Skew:              </th>  <td>-0.18</td> \n",
       "</tr>\n",
       "<tr>\n",
       "  <th>Prob(H) (two-sided):</th>    <td>0.00</td>  <th>  Kurtosis:          </th>  <td>12.63</td> \n",
       "</tr>\n",
       "</table><br/><br/>Warnings:<br/>[1] Covariance matrix calculated using the outer product of gradients (complex-step)."
      ],
      "text/plain": [
       "<class 'statsmodels.iolib.summary.Summary'>\n",
       "\"\"\"\n",
       "                               SARIMAX Results                                \n",
       "==============================================================================\n",
       "Dep. Variable:                      y   No. Observations:                 1826\n",
       "Model:               SARIMAX(0, 1, 0)   Log Likelihood              -15215.346\n",
       "Date:                Tue, 09 Aug 2022   AIC                          30432.692\n",
       "Time:                        10:17:56   BIC                          30438.201\n",
       "Sample:                             0   HQIC                         30434.724\n",
       "                               - 1826                                         \n",
       "Covariance Type:                  opg                                         \n",
       "==============================================================================\n",
       "                 coef    std err          z      P>|z|      [0.025      0.975]\n",
       "------------------------------------------------------------------------------\n",
       "sigma2      1.021e+06    1.4e+04     72.842      0.000    9.93e+05    1.05e+06\n",
       "===================================================================================\n",
       "Ljung-Box (L1) (Q):                   1.25   Jarque-Bera (JB):              7057.37\n",
       "Prob(Q):                              0.26   Prob(JB):                         0.00\n",
       "Heteroskedasticity (H):              14.86   Skew:                            -0.18\n",
       "Prob(H) (two-sided):                  0.00   Kurtosis:                        12.63\n",
       "===================================================================================\n",
       "\n",
       "Warnings:\n",
       "[1] Covariance matrix calculated using the outer product of gradients (complex-step).\n",
       "\"\"\""
      ]
     },
     "execution_count": 66,
     "metadata": {},
     "output_type": "execute_result"
    }
   ],
   "source": [
    "model_auto.summary()"
   ]
  },
  {
   "cell_type": "markdown",
   "id": "2e0df472",
   "metadata": {},
   "source": [
    "## The Hyperparameter suggested by the auto_arima model is (0,1,0)"
   ]
  },
  {
   "cell_type": "code",
   "execution_count": 67,
   "id": "08823bb8",
   "metadata": {},
   "outputs": [],
   "source": [
    "model_autohy = ARIMA(data_train['Close'], order=(0,1,0)).fit()"
   ]
  },
  {
   "cell_type": "code",
   "execution_count": 68,
   "id": "c9bc58ab",
   "metadata": {},
   "outputs": [],
   "source": [
    "pred_autohy = model_autohy.predict(start=1460,end=1824)"
   ]
  },
  {
   "cell_type": "code",
   "execution_count": 69,
   "id": "9d068ce5",
   "metadata": {},
   "outputs": [
    {
     "data": {
      "text/plain": [
       "2021-07-27    37337.53516\n",
       "2021-07-28    39406.94141\n",
       "2021-07-29    39406.94141\n",
       "2021-07-30    39406.94141\n",
       "2021-07-31    39406.94141\n",
       "                 ...     \n",
       "2022-07-22    39406.94141\n",
       "2022-07-23    39406.94141\n",
       "2022-07-24    39406.94141\n",
       "2022-07-25    39406.94141\n",
       "2022-07-26    39406.94141\n",
       "Freq: D, Name: predicted_mean, Length: 365, dtype: float64"
      ]
     },
     "execution_count": 69,
     "metadata": {},
     "output_type": "execute_result"
    }
   ],
   "source": [
    "pred_autohy"
   ]
  },
  {
   "cell_type": "code",
   "execution_count": 70,
   "id": "61bacbe8",
   "metadata": {},
   "outputs": [
    {
     "data": {
      "text/plain": [
       "<AxesSubplot:xlabel='Date'>"
      ]
     },
     "execution_count": 70,
     "metadata": {},
     "output_type": "execute_result"
    },
    {
     "data": {
      "image/png": "[encoded data removed]",
      "text/plain": [
       "<Figure size 432x288 with 1 Axes>"
      ]
     },
     "metadata": {
      "needs_background": "light"
     },
     "output_type": "display_data"
    }
   ],
   "source": [
    "data_test['test'].plot()\n",
    "pred_autohy.plot()"
   ]
  },
  {
   "cell_type": "code",
   "execution_count": 71,
   "id": "d8f42416",
   "metadata": {},
   "outputs": [],
   "source": [
    "error = np.sqrt(mean_squared_error(data_test['test'],pred_autohy))"
   ]
  },
  {
   "cell_type": "code",
   "execution_count": 72,
   "id": "9527b79a",
   "metadata": {},
   "outputs": [
    {
     "data": {
      "text/plain": [
       "11896.351212140102"
      ]
     },
     "execution_count": 72,
     "metadata": {},
     "output_type": "execute_result"
    }
   ],
   "source": [
    "error"
   ]
  },
  {
   "cell_type": "markdown",
   "id": "45fbca81",
   "metadata": {},
   "source": [
    "## Random forest "
   ]
  },
  {
   "cell_type": "code",
   "execution_count": 73,
   "id": "4ccfd8c1",
   "metadata": {},
   "outputs": [
    {
     "data": {
      "text/plain": [
       "Date\n",
       "2017-07-28     2809.010010\n",
       "2017-07-29     2726.449951\n",
       "2017-07-30     2757.179932\n",
       "2017-07-31     2875.340088\n",
       "2017-08-01     2718.260010\n",
       "                  ...     \n",
       "2022-07-23    22465.478520\n",
       "2022-07-24    22609.164060\n",
       "2022-07-25    21361.701170\n",
       "2022-07-26    21239.753910\n",
       "2022-07-27    22930.548830\n",
       "Name: Close, Length: 1826, dtype: float64"
      ]
     },
     "execution_count": 73,
     "metadata": {},
     "output_type": "execute_result"
    }
   ],
   "source": [
    "df_total"
   ]
  },
  {
   "cell_type": "code",
   "execution_count": 74,
   "id": "9157669f",
   "metadata": {},
   "outputs": [],
   "source": [
    "df_yesterday = df_total.shift(+1)\n",
    "df_aday_before_yesterday = df_total.shift(+2)"
   ]
  },
  {
   "cell_type": "code",
   "execution_count": 75,
   "id": "4388aeb9",
   "metadata": {},
   "outputs": [
    {
     "data": {
      "text/html": [
       "<div>\n",
       "<style scoped>\n",
       "    .dataframe tbody tr th:only-of-type {\n",
       "        vertical-align: middle;\n",
       "    }\n",
       "\n",
       "    .dataframe tbody tr th {\n",
       "        vertical-align: top;\n",
       "    }\n",
       "\n",
       "    .dataframe thead th {\n",
       "        text-align: right;\n",
       "    }\n",
       "</style>\n",
       "<table border=\"1\" class=\"dataframe\">\n",
       "  <thead>\n",
       "    <tr style=\"text-align: right;\">\n",
       "      <th></th>\n",
       "      <th>aday_before_yesterday</th>\n",
       "      <th>yesterday</th>\n",
       "      <th>Today</th>\n",
       "    </tr>\n",
       "    <tr>\n",
       "      <th>Date</th>\n",
       "      <th></th>\n",
       "      <th></th>\n",
       "      <th></th>\n",
       "    </tr>\n",
       "  </thead>\n",
       "  <tbody>\n",
       "    <tr>\n",
       "      <th>2017-07-28</th>\n",
       "      <td>NaN</td>\n",
       "      <td>NaN</td>\n",
       "      <td>2809.010010</td>\n",
       "    </tr>\n",
       "    <tr>\n",
       "      <th>2017-07-29</th>\n",
       "      <td>NaN</td>\n",
       "      <td>2809.010010</td>\n",
       "      <td>2726.449951</td>\n",
       "    </tr>\n",
       "    <tr>\n",
       "      <th>2017-07-30</th>\n",
       "      <td>2809.010010</td>\n",
       "      <td>2726.449951</td>\n",
       "      <td>2757.179932</td>\n",
       "    </tr>\n",
       "    <tr>\n",
       "      <th>2017-07-31</th>\n",
       "      <td>2726.449951</td>\n",
       "      <td>2757.179932</td>\n",
       "      <td>2875.340088</td>\n",
       "    </tr>\n",
       "    <tr>\n",
       "      <th>2017-08-01</th>\n",
       "      <td>2757.179932</td>\n",
       "      <td>2875.340088</td>\n",
       "      <td>2718.260010</td>\n",
       "    </tr>\n",
       "    <tr>\n",
       "      <th>...</th>\n",
       "      <td>...</td>\n",
       "      <td>...</td>\n",
       "      <td>...</td>\n",
       "    </tr>\n",
       "    <tr>\n",
       "      <th>2022-07-23</th>\n",
       "      <td>23164.628910</td>\n",
       "      <td>22714.978520</td>\n",
       "      <td>22465.478520</td>\n",
       "    </tr>\n",
       "    <tr>\n",
       "      <th>2022-07-24</th>\n",
       "      <td>22714.978520</td>\n",
       "      <td>22465.478520</td>\n",
       "      <td>22609.164060</td>\n",
       "    </tr>\n",
       "    <tr>\n",
       "      <th>2022-07-25</th>\n",
       "      <td>22465.478520</td>\n",
       "      <td>22609.164060</td>\n",
       "      <td>21361.701170</td>\n",
       "    </tr>\n",
       "    <tr>\n",
       "      <th>2022-07-26</th>\n",
       "      <td>22609.164060</td>\n",
       "      <td>21361.701170</td>\n",
       "      <td>21239.753910</td>\n",
       "    </tr>\n",
       "    <tr>\n",
       "      <th>2022-07-27</th>\n",
       "      <td>21361.701170</td>\n",
       "      <td>21239.753910</td>\n",
       "      <td>22930.548830</td>\n",
       "    </tr>\n",
       "  </tbody>\n",
       "</table>\n",
       "<p>1826 rows × 3 columns</p>\n",
       "</div>"
      ],
      "text/plain": [
       "            aday_before_yesterday     yesterday         Today\n",
       "Date                                                         \n",
       "2017-07-28                    NaN           NaN   2809.010010\n",
       "2017-07-29                    NaN   2809.010010   2726.449951\n",
       "2017-07-30            2809.010010   2726.449951   2757.179932\n",
       "2017-07-31            2726.449951   2757.179932   2875.340088\n",
       "2017-08-01            2757.179932   2875.340088   2718.260010\n",
       "...                           ...           ...           ...\n",
       "2022-07-23           23164.628910  22714.978520  22465.478520\n",
       "2022-07-24           22714.978520  22465.478520  22609.164060\n",
       "2022-07-25           22465.478520  22609.164060  21361.701170\n",
       "2022-07-26           22609.164060  21361.701170  21239.753910\n",
       "2022-07-27           21361.701170  21239.753910  22930.548830\n",
       "\n",
       "[1826 rows x 3 columns]"
      ]
     },
     "execution_count": 75,
     "metadata": {},
     "output_type": "execute_result"
    }
   ],
   "source": [
    "temp = pd.concat([df_aday_before_yesterday,df_yesterday,df_total], axis=1)\n",
    "temp.columns = ['aday_before_yesterday', 'yesterday', 'Today']\n",
    "temp"
   ]
  },
  {
   "cell_type": "code",
   "execution_count": 76,
   "id": "2a021537",
   "metadata": {},
   "outputs": [
    {
     "data": {
      "text/html": [
       "<div>\n",
       "<style scoped>\n",
       "    .dataframe tbody tr th:only-of-type {\n",
       "        vertical-align: middle;\n",
       "    }\n",
       "\n",
       "    .dataframe tbody tr th {\n",
       "        vertical-align: top;\n",
       "    }\n",
       "\n",
       "    .dataframe thead th {\n",
       "        text-align: right;\n",
       "    }\n",
       "</style>\n",
       "<table border=\"1\" class=\"dataframe\">\n",
       "  <thead>\n",
       "    <tr style=\"text-align: right;\">\n",
       "      <th></th>\n",
       "      <th>aday_before_yesterday</th>\n",
       "      <th>yesterday</th>\n",
       "      <th>Today</th>\n",
       "    </tr>\n",
       "    <tr>\n",
       "      <th>Date</th>\n",
       "      <th></th>\n",
       "      <th></th>\n",
       "      <th></th>\n",
       "    </tr>\n",
       "  </thead>\n",
       "  <tbody>\n",
       "    <tr>\n",
       "      <th>2017-07-30</th>\n",
       "      <td>2809.010010</td>\n",
       "      <td>2726.449951</td>\n",
       "      <td>2757.179932</td>\n",
       "    </tr>\n",
       "    <tr>\n",
       "      <th>2017-07-31</th>\n",
       "      <td>2726.449951</td>\n",
       "      <td>2757.179932</td>\n",
       "      <td>2875.340088</td>\n",
       "    </tr>\n",
       "    <tr>\n",
       "      <th>2017-08-01</th>\n",
       "      <td>2757.179932</td>\n",
       "      <td>2875.340088</td>\n",
       "      <td>2718.260010</td>\n",
       "    </tr>\n",
       "    <tr>\n",
       "      <th>2017-08-02</th>\n",
       "      <td>2875.340088</td>\n",
       "      <td>2718.260010</td>\n",
       "      <td>2710.669922</td>\n",
       "    </tr>\n",
       "    <tr>\n",
       "      <th>2017-08-03</th>\n",
       "      <td>2718.260010</td>\n",
       "      <td>2710.669922</td>\n",
       "      <td>2804.729980</td>\n",
       "    </tr>\n",
       "    <tr>\n",
       "      <th>...</th>\n",
       "      <td>...</td>\n",
       "      <td>...</td>\n",
       "      <td>...</td>\n",
       "    </tr>\n",
       "    <tr>\n",
       "      <th>2022-07-23</th>\n",
       "      <td>23164.628910</td>\n",
       "      <td>22714.978520</td>\n",
       "      <td>22465.478520</td>\n",
       "    </tr>\n",
       "    <tr>\n",
       "      <th>2022-07-24</th>\n",
       "      <td>22714.978520</td>\n",
       "      <td>22465.478520</td>\n",
       "      <td>22609.164060</td>\n",
       "    </tr>\n",
       "    <tr>\n",
       "      <th>2022-07-25</th>\n",
       "      <td>22465.478520</td>\n",
       "      <td>22609.164060</td>\n",
       "      <td>21361.701170</td>\n",
       "    </tr>\n",
       "    <tr>\n",
       "      <th>2022-07-26</th>\n",
       "      <td>22609.164060</td>\n",
       "      <td>21361.701170</td>\n",
       "      <td>21239.753910</td>\n",
       "    </tr>\n",
       "    <tr>\n",
       "      <th>2022-07-27</th>\n",
       "      <td>21361.701170</td>\n",
       "      <td>21239.753910</td>\n",
       "      <td>22930.548830</td>\n",
       "    </tr>\n",
       "  </tbody>\n",
       "</table>\n",
       "<p>1824 rows × 3 columns</p>\n",
       "</div>"
      ],
      "text/plain": [
       "            aday_before_yesterday     yesterday         Today\n",
       "Date                                                         \n",
       "2017-07-30            2809.010010   2726.449951   2757.179932\n",
       "2017-07-31            2726.449951   2757.179932   2875.340088\n",
       "2017-08-01            2757.179932   2875.340088   2718.260010\n",
       "2017-08-02            2875.340088   2718.260010   2710.669922\n",
       "2017-08-03            2718.260010   2710.669922   2804.729980\n",
       "...                           ...           ...           ...\n",
       "2022-07-23           23164.628910  22714.978520  22465.478520\n",
       "2022-07-24           22714.978520  22465.478520  22609.164060\n",
       "2022-07-25           22465.478520  22609.164060  21361.701170\n",
       "2022-07-26           22609.164060  21361.701170  21239.753910\n",
       "2022-07-27           21361.701170  21239.753910  22930.548830\n",
       "\n",
       "[1824 rows x 3 columns]"
      ]
     },
     "execution_count": 76,
     "metadata": {},
     "output_type": "execute_result"
    }
   ],
   "source": [
    "temp = temp.dropna()\n",
    "temp"
   ]
  },
  {
   "cell_type": "code",
   "execution_count": 77,
   "id": "7866e28b",
   "metadata": {},
   "outputs": [
    {
     "data": {
      "text/plain": [
       "pandas.core.frame.DataFrame"
      ]
     },
     "execution_count": 77,
     "metadata": {},
     "output_type": "execute_result"
    }
   ],
   "source": [
    "X=temp[['aday_before_yesterday','yesterday']]\n",
    "y=temp[['Today']]\n",
    "type(y)"
   ]
  },
  {
   "cell_type": "code",
   "execution_count": 78,
   "id": "b08faeea",
   "metadata": {},
   "outputs": [
    {
     "data": {
      "text/html": [
       "<div>\n",
       "<style scoped>\n",
       "    .dataframe tbody tr th:only-of-type {\n",
       "        vertical-align: middle;\n",
       "    }\n",
       "\n",
       "    .dataframe tbody tr th {\n",
       "        vertical-align: top;\n",
       "    }\n",
       "\n",
       "    .dataframe thead th {\n",
       "        text-align: right;\n",
       "    }\n",
       "</style>\n",
       "<table border=\"1\" class=\"dataframe\">\n",
       "  <thead>\n",
       "    <tr style=\"text-align: right;\">\n",
       "      <th></th>\n",
       "      <th>aday_before_yesterday</th>\n",
       "      <th>yesterday</th>\n",
       "    </tr>\n",
       "    <tr>\n",
       "      <th>Date</th>\n",
       "      <th></th>\n",
       "      <th></th>\n",
       "    </tr>\n",
       "  </thead>\n",
       "  <tbody>\n",
       "    <tr>\n",
       "      <th>2017-07-30</th>\n",
       "      <td>2809.010010</td>\n",
       "      <td>2726.449951</td>\n",
       "    </tr>\n",
       "    <tr>\n",
       "      <th>2017-07-31</th>\n",
       "      <td>2726.449951</td>\n",
       "      <td>2757.179932</td>\n",
       "    </tr>\n",
       "    <tr>\n",
       "      <th>2017-08-01</th>\n",
       "      <td>2757.179932</td>\n",
       "      <td>2875.340088</td>\n",
       "    </tr>\n",
       "    <tr>\n",
       "      <th>2017-08-02</th>\n",
       "      <td>2875.340088</td>\n",
       "      <td>2718.260010</td>\n",
       "    </tr>\n",
       "    <tr>\n",
       "      <th>2017-08-03</th>\n",
       "      <td>2718.260010</td>\n",
       "      <td>2710.669922</td>\n",
       "    </tr>\n",
       "    <tr>\n",
       "      <th>...</th>\n",
       "      <td>...</td>\n",
       "      <td>...</td>\n",
       "    </tr>\n",
       "    <tr>\n",
       "      <th>2021-07-23</th>\n",
       "      <td>32110.693360</td>\n",
       "      <td>32313.105470</td>\n",
       "    </tr>\n",
       "    <tr>\n",
       "      <th>2021-07-24</th>\n",
       "      <td>32313.105470</td>\n",
       "      <td>33581.550780</td>\n",
       "    </tr>\n",
       "    <tr>\n",
       "      <th>2021-07-25</th>\n",
       "      <td>33581.550780</td>\n",
       "      <td>34292.445310</td>\n",
       "    </tr>\n",
       "    <tr>\n",
       "      <th>2021-07-26</th>\n",
       "      <td>34292.445310</td>\n",
       "      <td>35350.187500</td>\n",
       "    </tr>\n",
       "    <tr>\n",
       "      <th>2021-07-27</th>\n",
       "      <td>35350.187500</td>\n",
       "      <td>37337.535160</td>\n",
       "    </tr>\n",
       "  </tbody>\n",
       "</table>\n",
       "<p>1459 rows × 2 columns</p>\n",
       "</div>"
      ],
      "text/plain": [
       "            aday_before_yesterday     yesterday\n",
       "Date                                           \n",
       "2017-07-30            2809.010010   2726.449951\n",
       "2017-07-31            2726.449951   2757.179932\n",
       "2017-08-01            2757.179932   2875.340088\n",
       "2017-08-02            2875.340088   2718.260010\n",
       "2017-08-03            2718.260010   2710.669922\n",
       "...                           ...           ...\n",
       "2021-07-23           32110.693360  32313.105470\n",
       "2021-07-24           32313.105470  33581.550780\n",
       "2021-07-25           33581.550780  34292.445310\n",
       "2021-07-26           34292.445310  35350.187500\n",
       "2021-07-27           35350.187500  37337.535160\n",
       "\n",
       "[1459 rows x 2 columns]"
      ]
     },
     "execution_count": 78,
     "metadata": {},
     "output_type": "execute_result"
    }
   ],
   "source": [
    "X_train=X.reset_index()\n",
    "X_train=X_train[X_train['Date']<\"2021-07-28\"]\n",
    "X_train.set_index('Date', inplace=True)\n",
    "X_train"
   ]
  },
  {
   "cell_type": "code",
   "execution_count": 79,
   "id": "7f9de305",
   "metadata": {},
   "outputs": [
    {
     "data": {
      "text/html": [
       "<div>\n",
       "<style scoped>\n",
       "    .dataframe tbody tr th:only-of-type {\n",
       "        vertical-align: middle;\n",
       "    }\n",
       "\n",
       "    .dataframe tbody tr th {\n",
       "        vertical-align: top;\n",
       "    }\n",
       "\n",
       "    .dataframe thead th {\n",
       "        text-align: right;\n",
       "    }\n",
       "</style>\n",
       "<table border=\"1\" class=\"dataframe\">\n",
       "  <thead>\n",
       "    <tr style=\"text-align: right;\">\n",
       "      <th></th>\n",
       "      <th>aday_before_yesterday</th>\n",
       "      <th>yesterday</th>\n",
       "    </tr>\n",
       "    <tr>\n",
       "      <th>Date</th>\n",
       "      <th></th>\n",
       "      <th></th>\n",
       "    </tr>\n",
       "  </thead>\n",
       "  <tbody>\n",
       "    <tr>\n",
       "      <th>2021-07-28</th>\n",
       "      <td>37337.53516</td>\n",
       "      <td>39406.94141</td>\n",
       "    </tr>\n",
       "    <tr>\n",
       "      <th>2021-07-29</th>\n",
       "      <td>39406.94141</td>\n",
       "      <td>39995.90625</td>\n",
       "    </tr>\n",
       "    <tr>\n",
       "      <th>2021-07-30</th>\n",
       "      <td>39995.90625</td>\n",
       "      <td>40008.42188</td>\n",
       "    </tr>\n",
       "    <tr>\n",
       "      <th>2021-07-31</th>\n",
       "      <td>40008.42188</td>\n",
       "      <td>42235.54688</td>\n",
       "    </tr>\n",
       "    <tr>\n",
       "      <th>2021-08-01</th>\n",
       "      <td>42235.54688</td>\n",
       "      <td>41626.19531</td>\n",
       "    </tr>\n",
       "    <tr>\n",
       "      <th>...</th>\n",
       "      <td>...</td>\n",
       "      <td>...</td>\n",
       "    </tr>\n",
       "    <tr>\n",
       "      <th>2022-07-23</th>\n",
       "      <td>23164.62891</td>\n",
       "      <td>22714.97852</td>\n",
       "    </tr>\n",
       "    <tr>\n",
       "      <th>2022-07-24</th>\n",
       "      <td>22714.97852</td>\n",
       "      <td>22465.47852</td>\n",
       "    </tr>\n",
       "    <tr>\n",
       "      <th>2022-07-25</th>\n",
       "      <td>22465.47852</td>\n",
       "      <td>22609.16406</td>\n",
       "    </tr>\n",
       "    <tr>\n",
       "      <th>2022-07-26</th>\n",
       "      <td>22609.16406</td>\n",
       "      <td>21361.70117</td>\n",
       "    </tr>\n",
       "    <tr>\n",
       "      <th>2022-07-27</th>\n",
       "      <td>21361.70117</td>\n",
       "      <td>21239.75391</td>\n",
       "    </tr>\n",
       "  </tbody>\n",
       "</table>\n",
       "<p>365 rows × 2 columns</p>\n",
       "</div>"
      ],
      "text/plain": [
       "            aday_before_yesterday    yesterday\n",
       "Date                                          \n",
       "2021-07-28            37337.53516  39406.94141\n",
       "2021-07-29            39406.94141  39995.90625\n",
       "2021-07-30            39995.90625  40008.42188\n",
       "2021-07-31            40008.42188  42235.54688\n",
       "2021-08-01            42235.54688  41626.19531\n",
       "...                           ...          ...\n",
       "2022-07-23            23164.62891  22714.97852\n",
       "2022-07-24            22714.97852  22465.47852\n",
       "2022-07-25            22465.47852  22609.16406\n",
       "2022-07-26            22609.16406  21361.70117\n",
       "2022-07-27            21361.70117  21239.75391\n",
       "\n",
       "[365 rows x 2 columns]"
      ]
     },
     "execution_count": 79,
     "metadata": {},
     "output_type": "execute_result"
    }
   ],
   "source": [
    "X_test=X.reset_index()\n",
    "X_test=X_test[X_test['Date']>=\"2021-07-28\"]\n",
    "X_test.set_index('Date', inplace=True)\n",
    "X_test"
   ]
  },
  {
   "cell_type": "code",
   "execution_count": 80,
   "id": "a85b9095",
   "metadata": {},
   "outputs": [
    {
     "data": {
      "text/html": [
       "<div>\n",
       "<style scoped>\n",
       "    .dataframe tbody tr th:only-of-type {\n",
       "        vertical-align: middle;\n",
       "    }\n",
       "\n",
       "    .dataframe tbody tr th {\n",
       "        vertical-align: top;\n",
       "    }\n",
       "\n",
       "    .dataframe thead th {\n",
       "        text-align: right;\n",
       "    }\n",
       "</style>\n",
       "<table border=\"1\" class=\"dataframe\">\n",
       "  <thead>\n",
       "    <tr style=\"text-align: right;\">\n",
       "      <th></th>\n",
       "      <th>Today</th>\n",
       "    </tr>\n",
       "    <tr>\n",
       "      <th>Date</th>\n",
       "      <th></th>\n",
       "    </tr>\n",
       "  </thead>\n",
       "  <tbody>\n",
       "    <tr>\n",
       "      <th>2017-07-30</th>\n",
       "      <td>2757.179932</td>\n",
       "    </tr>\n",
       "    <tr>\n",
       "      <th>2017-07-31</th>\n",
       "      <td>2875.340088</td>\n",
       "    </tr>\n",
       "    <tr>\n",
       "      <th>2017-08-01</th>\n",
       "      <td>2718.260010</td>\n",
       "    </tr>\n",
       "    <tr>\n",
       "      <th>2017-08-02</th>\n",
       "      <td>2710.669922</td>\n",
       "    </tr>\n",
       "    <tr>\n",
       "      <th>2017-08-03</th>\n",
       "      <td>2804.729980</td>\n",
       "    </tr>\n",
       "    <tr>\n",
       "      <th>...</th>\n",
       "      <td>...</td>\n",
       "    </tr>\n",
       "    <tr>\n",
       "      <th>2021-07-23</th>\n",
       "      <td>33581.550780</td>\n",
       "    </tr>\n",
       "    <tr>\n",
       "      <th>2021-07-24</th>\n",
       "      <td>34292.445310</td>\n",
       "    </tr>\n",
       "    <tr>\n",
       "      <th>2021-07-25</th>\n",
       "      <td>35350.187500</td>\n",
       "    </tr>\n",
       "    <tr>\n",
       "      <th>2021-07-26</th>\n",
       "      <td>37337.535160</td>\n",
       "    </tr>\n",
       "    <tr>\n",
       "      <th>2021-07-27</th>\n",
       "      <td>39406.941410</td>\n",
       "    </tr>\n",
       "  </tbody>\n",
       "</table>\n",
       "<p>1459 rows × 1 columns</p>\n",
       "</div>"
      ],
      "text/plain": [
       "                   Today\n",
       "Date                    \n",
       "2017-07-30   2757.179932\n",
       "2017-07-31   2875.340088\n",
       "2017-08-01   2718.260010\n",
       "2017-08-02   2710.669922\n",
       "2017-08-03   2804.729980\n",
       "...                  ...\n",
       "2021-07-23  33581.550780\n",
       "2021-07-24  34292.445310\n",
       "2021-07-25  35350.187500\n",
       "2021-07-26  37337.535160\n",
       "2021-07-27  39406.941410\n",
       "\n",
       "[1459 rows x 1 columns]"
      ]
     },
     "execution_count": 80,
     "metadata": {},
     "output_type": "execute_result"
    }
   ],
   "source": [
    "y_train=y.reset_index()\n",
    "y_train=y_train[y_train['Date']<\"2021-07-28\"]\n",
    "y_train.set_index('Date', inplace=True)\n",
    "y_train"
   ]
  },
  {
   "cell_type": "code",
   "execution_count": 81,
   "id": "b1446c6d",
   "metadata": {},
   "outputs": [
    {
     "data": {
      "text/html": [
       "<div>\n",
       "<style scoped>\n",
       "    .dataframe tbody tr th:only-of-type {\n",
       "        vertical-align: middle;\n",
       "    }\n",
       "\n",
       "    .dataframe tbody tr th {\n",
       "        vertical-align: top;\n",
       "    }\n",
       "\n",
       "    .dataframe thead th {\n",
       "        text-align: right;\n",
       "    }\n",
       "</style>\n",
       "<table border=\"1\" class=\"dataframe\">\n",
       "  <thead>\n",
       "    <tr style=\"text-align: right;\">\n",
       "      <th></th>\n",
       "      <th>Today</th>\n",
       "    </tr>\n",
       "    <tr>\n",
       "      <th>Date</th>\n",
       "      <th></th>\n",
       "    </tr>\n",
       "  </thead>\n",
       "  <tbody>\n",
       "    <tr>\n",
       "      <th>2021-07-28</th>\n",
       "      <td>39995.90625</td>\n",
       "    </tr>\n",
       "    <tr>\n",
       "      <th>2021-07-29</th>\n",
       "      <td>40008.42188</td>\n",
       "    </tr>\n",
       "    <tr>\n",
       "      <th>2021-07-30</th>\n",
       "      <td>42235.54688</td>\n",
       "    </tr>\n",
       "    <tr>\n",
       "      <th>2021-07-31</th>\n",
       "      <td>41626.19531</td>\n",
       "    </tr>\n",
       "    <tr>\n",
       "      <th>2021-08-01</th>\n",
       "      <td>39974.89453</td>\n",
       "    </tr>\n",
       "    <tr>\n",
       "      <th>...</th>\n",
       "      <td>...</td>\n",
       "    </tr>\n",
       "    <tr>\n",
       "      <th>2022-07-23</th>\n",
       "      <td>22465.47852</td>\n",
       "    </tr>\n",
       "    <tr>\n",
       "      <th>2022-07-24</th>\n",
       "      <td>22609.16406</td>\n",
       "    </tr>\n",
       "    <tr>\n",
       "      <th>2022-07-25</th>\n",
       "      <td>21361.70117</td>\n",
       "    </tr>\n",
       "    <tr>\n",
       "      <th>2022-07-26</th>\n",
       "      <td>21239.75391</td>\n",
       "    </tr>\n",
       "    <tr>\n",
       "      <th>2022-07-27</th>\n",
       "      <td>22930.54883</td>\n",
       "    </tr>\n",
       "  </tbody>\n",
       "</table>\n",
       "<p>365 rows × 1 columns</p>\n",
       "</div>"
      ],
      "text/plain": [
       "                  Today\n",
       "Date                   \n",
       "2021-07-28  39995.90625\n",
       "2021-07-29  40008.42188\n",
       "2021-07-30  42235.54688\n",
       "2021-07-31  41626.19531\n",
       "2021-08-01  39974.89453\n",
       "...                 ...\n",
       "2022-07-23  22465.47852\n",
       "2022-07-24  22609.16406\n",
       "2022-07-25  21361.70117\n",
       "2022-07-26  21239.75391\n",
       "2022-07-27  22930.54883\n",
       "\n",
       "[365 rows x 1 columns]"
      ]
     },
     "execution_count": 81,
     "metadata": {},
     "output_type": "execute_result"
    }
   ],
   "source": [
    "y_test=y.reset_index()\n",
    "y_test=y_test[y_test['Date']>=\"2021-07-28\"]\n",
    "y_test.set_index('Date', inplace=True)\n",
    "y_test"
   ]
  },
  {
   "cell_type": "code",
   "execution_count": 82,
   "id": "a453dfd4",
   "metadata": {},
   "outputs": [
    {
     "data": {
      "text/html": [
       "<style>#sk-container-id-1 {color: black;background-color: white;}#sk-container-id-1 pre{padding: 0;}#sk-container-id-1 div.sk-toggleable {background-color: white;}#sk-container-id-1 label.sk-toggleable__label {cursor: pointer;display: block;width: 100%;margin-bottom: 0;padding: 0.3em;box-sizing: border-box;text-align: center;}#sk-container-id-1 label.sk-toggleable__label-arrow:before {content: \"▸\";float: left;margin-right: 0.25em;color: #696969;}#sk-container-id-1 label.sk-toggleable__label-arrow:hover:before {color: black;}#sk-container-id-1 div.sk-estimator:hover label.sk-toggleable__label-arrow:before {color: black;}#sk-container-id-1 div.sk-toggleable__content {max-height: 0;max-width: 0;overflow: hidden;text-align: left;background-color: #f0f8ff;}#sk-container-id-1 div.sk-toggleable__content pre {margin: 0.2em;color: black;border-radius: 0.25em;background-color: #f0f8ff;}#sk-container-id-1 input.sk-toggleable__control:checked~div.sk-toggleable__content {max-height: 200px;max-width: 100%;overflow: auto;}#sk-container-id-1 input.sk-toggleable__control:checked~label.sk-toggleable__label-arrow:before {content: \"▾\";}#sk-container-id-1 div.sk-estimator input.sk-toggleable__control:checked~label.sk-toggleable__label {background-color: #d4ebff;}#sk-container-id-1 div.sk-label input.sk-toggleable__control:checked~label.sk-toggleable__label {background-color: #d4ebff;}#sk-container-id-1 input.sk-hidden--visually {border: 0;clip: rect(1px 1px 1px 1px);clip: rect(1px, 1px, 1px, 1px);height: 1px;margin: -1px;overflow: hidden;padding: 0;position: absolute;width: 1px;}#sk-container-id-1 div.sk-estimator {font-family: monospace;background-color: #f0f8ff;border: 1px dotted black;border-radius: 0.25em;box-sizing: border-box;margin-bottom: 0.5em;}#sk-container-id-1 div.sk-estimator:hover {background-color: #d4ebff;}#sk-container-id-1 div.sk-parallel-item::after {content: \"\";width: 100%;border-bottom: 1px solid gray;flex-grow: 1;}#sk-container-id-1 div.sk-label:hover label.sk-toggleable__label {background-color: #d4ebff;}#sk-container-id-1 div.sk-serial::before {content: \"\";position: absolute;border-left: 1px solid gray;box-sizing: border-box;top: 0;bottom: 0;left: 50%;z-index: 0;}#sk-container-id-1 div.sk-serial {display: flex;flex-direction: column;align-items: center;background-color: white;padding-right: 0.2em;padding-left: 0.2em;position: relative;}#sk-container-id-1 div.sk-item {position: relative;z-index: 1;}#sk-container-id-1 div.sk-parallel {display: flex;align-items: stretch;justify-content: center;background-color: white;position: relative;}#sk-container-id-1 div.sk-item::before, #sk-container-id-1 div.sk-parallel-item::before {content: \"\";position: absolute;border-left: 1px solid gray;box-sizing: border-box;top: 0;bottom: 0;left: 50%;z-index: -1;}#sk-container-id-1 div.sk-parallel-item {display: flex;flex-direction: column;z-index: 1;position: relative;background-color: white;}#sk-container-id-1 div.sk-parallel-item:first-child::after {align-self: flex-end;width: 50%;}#sk-container-id-1 div.sk-parallel-item:last-child::after {align-self: flex-start;width: 50%;}#sk-container-id-1 div.sk-parallel-item:only-child::after {width: 0;}#sk-container-id-1 div.sk-dashed-wrapped {border: 1px dashed gray;margin: 0 0.4em 0.5em 0.4em;box-sizing: border-box;padding-bottom: 0.4em;background-color: white;}#sk-container-id-1 div.sk-label label {font-family: monospace;font-weight: bold;display: inline-block;line-height: 1.2em;}#sk-container-id-1 div.sk-label-container {text-align: center;}#sk-container-id-1 div.sk-container {/* jupyter's `normalize.less` sets `[hidden] { display: none; }` but bootstrap.min.css set `[hidden] { display: none !important; }` so we also need the `!important` here to be able to override the default hidden behavior on the sphinx rendered scikit-learn.org. See: https://github.com/scikit-learn/scikit-learn/issues/21755 */display: inline-block !important;position: relative;}#sk-container-id-1 div.sk-text-repr-fallback {display: none;}</style><div id=\"sk-container-id-1\" class=\"sk-top-container\"><div class=\"sk-text-repr-fallback\"><pre>RandomForestRegressor()</pre><b>In a Jupyter environment, please rerun this cell to show the HTML representation or trust the notebook. <br />On GitHub, the HTML representation is unable to render, please try loading this page with nbviewer.org.</b></div><div class=\"sk-container\" hidden><div class=\"sk-item\"><div class=\"sk-estimator sk-toggleable\"><input class=\"sk-toggleable__control sk-hidden--visually\" id=\"sk-estimator-id-1\" type=\"checkbox\" checked><label for=\"sk-estimator-id-1\" class=\"sk-toggleable__label sk-toggleable__label-arrow\">RandomForestRegressor</label><div class=\"sk-toggleable__content\"><pre>RandomForestRegressor()</pre></div></div></div></div></div>"
      ],
      "text/plain": [
       "RandomForestRegressor()"
      ]
     },
     "execution_count": 82,
     "metadata": {},
     "output_type": "execute_result"
    }
   ],
   "source": [
    "my_rf = RandomForestRegressor()\n",
    "my_rf.fit(X_train,y_train)"
   ]
  },
  {
   "cell_type": "code",
   "execution_count": 83,
   "id": "44aed595",
   "metadata": {},
   "outputs": [
    {
     "data": {
      "text/plain": [
       "0.9578522724288866"
      ]
     },
     "execution_count": 83,
     "metadata": {},
     "output_type": "execute_result"
    }
   ],
   "source": [
    "my_rf.score(X_test,y_test)"
   ]
  },
  {
   "cell_type": "code",
   "execution_count": 84,
   "id": "0858bbbf",
   "metadata": {},
   "outputs": [],
   "source": [
    "y_pred=my_rf.predict(X_test)"
   ]
  },
  {
   "cell_type": "code",
   "execution_count": 85,
   "id": "58882fd6",
   "metadata": {},
   "outputs": [
    {
     "data": {
      "text/plain": [
       "2381.1996343117517"
      ]
     },
     "execution_count": 85,
     "metadata": {},
     "output_type": "execute_result"
    }
   ],
   "source": [
    "error = np.sqrt(mean_squared_error(y_test,y_pred))\n",
    "error"
   ]
  },
  {
   "cell_type": "code",
   "execution_count": 86,
   "id": "66959e32",
   "metadata": {},
   "outputs": [
    {
     "data": {
      "text/plain": [
       "12.344847585588862"
      ]
     },
     "execution_count": 86,
     "metadata": {},
     "output_type": "execute_result"
    }
   ],
   "source": [
    "percentage_rmse_data_mean = (error/mean)*100\n",
    "percentage_rmse_data_mean "
   ]
  },
  {
   "cell_type": "code",
   "execution_count": 87,
   "id": "7b9833d9",
   "metadata": {},
   "outputs": [
    {
     "data": {
      "text/plain": [
       "0     2021-07-28\n",
       "1     2021-07-29\n",
       "2     2021-07-30\n",
       "3     2021-07-31\n",
       "4     2021-08-01\n",
       "         ...    \n",
       "360   2022-07-23\n",
       "361   2022-07-24\n",
       "362   2022-07-25\n",
       "363   2022-07-26\n",
       "364   2022-07-27\n",
       "Name: Date, Length: 365, dtype: datetime64[ns]"
      ]
     },
     "execution_count": 87,
     "metadata": {},
     "output_type": "execute_result"
    }
   ],
   "source": [
    "y_new=y_test.reset_index()\n",
    "y_new['Date']"
   ]
  },
  {
   "cell_type": "code",
   "execution_count": 88,
   "id": "cc3c60a8",
   "metadata": {},
   "outputs": [],
   "source": [
    "y_pred=pd.DataFrame(y_pred, index=y_new['Date'])"
   ]
  },
  {
   "cell_type": "code",
   "execution_count": 89,
   "id": "2b7871d8",
   "metadata": {},
   "outputs": [
    {
     "data": {
      "text/html": [
       "<div>\n",
       "<style scoped>\n",
       "    .dataframe tbody tr th:only-of-type {\n",
       "        vertical-align: middle;\n",
       "    }\n",
       "\n",
       "    .dataframe tbody tr th {\n",
       "        vertical-align: top;\n",
       "    }\n",
       "\n",
       "    .dataframe thead th {\n",
       "        text-align: right;\n",
       "    }\n",
       "</style>\n",
       "<table border=\"1\" class=\"dataframe\">\n",
       "  <thead>\n",
       "    <tr style=\"text-align: right;\">\n",
       "      <th></th>\n",
       "      <th>Today</th>\n",
       "    </tr>\n",
       "    <tr>\n",
       "      <th>Date</th>\n",
       "      <th></th>\n",
       "    </tr>\n",
       "  </thead>\n",
       "  <tbody>\n",
       "    <tr>\n",
       "      <th>2021-07-28</th>\n",
       "      <td>38336.105666</td>\n",
       "    </tr>\n",
       "    <tr>\n",
       "      <th>2021-07-29</th>\n",
       "      <td>39748.409103</td>\n",
       "    </tr>\n",
       "    <tr>\n",
       "      <th>2021-07-30</th>\n",
       "      <td>39085.160079</td>\n",
       "    </tr>\n",
       "    <tr>\n",
       "      <th>2021-07-31</th>\n",
       "      <td>38930.492698</td>\n",
       "    </tr>\n",
       "    <tr>\n",
       "      <th>2021-08-01</th>\n",
       "      <td>38448.726058</td>\n",
       "    </tr>\n",
       "    <tr>\n",
       "      <th>...</th>\n",
       "      <td>...</td>\n",
       "    </tr>\n",
       "    <tr>\n",
       "      <th>2022-07-23</th>\n",
       "      <td>23743.166876</td>\n",
       "    </tr>\n",
       "    <tr>\n",
       "      <th>2022-07-24</th>\n",
       "      <td>23513.868281</td>\n",
       "    </tr>\n",
       "    <tr>\n",
       "      <th>2022-07-25</th>\n",
       "      <td>23534.059414</td>\n",
       "    </tr>\n",
       "    <tr>\n",
       "      <th>2022-07-26</th>\n",
       "      <td>23316.433496</td>\n",
       "    </tr>\n",
       "    <tr>\n",
       "      <th>2022-07-27</th>\n",
       "      <td>23006.316505</td>\n",
       "    </tr>\n",
       "  </tbody>\n",
       "</table>\n",
       "<p>365 rows × 1 columns</p>\n",
       "</div>"
      ],
      "text/plain": [
       "                   Today\n",
       "Date                    \n",
       "2021-07-28  38336.105666\n",
       "2021-07-29  39748.409103\n",
       "2021-07-30  39085.160079\n",
       "2021-07-31  38930.492698\n",
       "2021-08-01  38448.726058\n",
       "...                  ...\n",
       "2022-07-23  23743.166876\n",
       "2022-07-24  23513.868281\n",
       "2022-07-25  23534.059414\n",
       "2022-07-26  23316.433496\n",
       "2022-07-27  23006.316505\n",
       "\n",
       "[365 rows x 1 columns]"
      ]
     },
     "execution_count": 89,
     "metadata": {},
     "output_type": "execute_result"
    }
   ],
   "source": [
    "y_pred.columns=['Today']\n",
    "y_pred"
   ]
  },
  {
   "cell_type": "code",
   "execution_count": 90,
   "id": "5efa5b91",
   "metadata": {},
   "outputs": [
    {
     "data": {
      "text/html": [
       "<div>\n",
       "<style scoped>\n",
       "    .dataframe tbody tr th:only-of-type {\n",
       "        vertical-align: middle;\n",
       "    }\n",
       "\n",
       "    .dataframe tbody tr th {\n",
       "        vertical-align: top;\n",
       "    }\n",
       "\n",
       "    .dataframe thead th {\n",
       "        text-align: right;\n",
       "    }\n",
       "</style>\n",
       "<table border=\"1\" class=\"dataframe\">\n",
       "  <thead>\n",
       "    <tr style=\"text-align: right;\">\n",
       "      <th></th>\n",
       "      <th>Today</th>\n",
       "    </tr>\n",
       "    <tr>\n",
       "      <th>Date</th>\n",
       "      <th></th>\n",
       "    </tr>\n",
       "  </thead>\n",
       "  <tbody>\n",
       "    <tr>\n",
       "      <th>2021-07-28</th>\n",
       "      <td>39995.90625</td>\n",
       "    </tr>\n",
       "    <tr>\n",
       "      <th>2021-07-29</th>\n",
       "      <td>40008.42188</td>\n",
       "    </tr>\n",
       "    <tr>\n",
       "      <th>2021-07-30</th>\n",
       "      <td>42235.54688</td>\n",
       "    </tr>\n",
       "    <tr>\n",
       "      <th>2021-07-31</th>\n",
       "      <td>41626.19531</td>\n",
       "    </tr>\n",
       "    <tr>\n",
       "      <th>2021-08-01</th>\n",
       "      <td>39974.89453</td>\n",
       "    </tr>\n",
       "    <tr>\n",
       "      <th>...</th>\n",
       "      <td>...</td>\n",
       "    </tr>\n",
       "    <tr>\n",
       "      <th>2022-07-23</th>\n",
       "      <td>22465.47852</td>\n",
       "    </tr>\n",
       "    <tr>\n",
       "      <th>2022-07-24</th>\n",
       "      <td>22609.16406</td>\n",
       "    </tr>\n",
       "    <tr>\n",
       "      <th>2022-07-25</th>\n",
       "      <td>21361.70117</td>\n",
       "    </tr>\n",
       "    <tr>\n",
       "      <th>2022-07-26</th>\n",
       "      <td>21239.75391</td>\n",
       "    </tr>\n",
       "    <tr>\n",
       "      <th>2022-07-27</th>\n",
       "      <td>22930.54883</td>\n",
       "    </tr>\n",
       "  </tbody>\n",
       "</table>\n",
       "<p>365 rows × 1 columns</p>\n",
       "</div>"
      ],
      "text/plain": [
       "                  Today\n",
       "Date                   \n",
       "2021-07-28  39995.90625\n",
       "2021-07-29  40008.42188\n",
       "2021-07-30  42235.54688\n",
       "2021-07-31  41626.19531\n",
       "2021-08-01  39974.89453\n",
       "...                 ...\n",
       "2022-07-23  22465.47852\n",
       "2022-07-24  22609.16406\n",
       "2022-07-25  21361.70117\n",
       "2022-07-26  21239.75391\n",
       "2022-07-27  22930.54883\n",
       "\n",
       "[365 rows x 1 columns]"
      ]
     },
     "execution_count": 90,
     "metadata": {},
     "output_type": "execute_result"
    }
   ],
   "source": [
    "y_test"
   ]
  },
  {
   "cell_type": "code",
   "execution_count": 91,
   "id": "1e59581f",
   "metadata": {},
   "outputs": [
    {
     "data": {
      "text/html": [
       "<div>\n",
       "<style scoped>\n",
       "    .dataframe tbody tr th:only-of-type {\n",
       "        vertical-align: middle;\n",
       "    }\n",
       "\n",
       "    .dataframe tbody tr th {\n",
       "        vertical-align: top;\n",
       "    }\n",
       "\n",
       "    .dataframe thead th {\n",
       "        text-align: right;\n",
       "    }\n",
       "</style>\n",
       "<table border=\"1\" class=\"dataframe\">\n",
       "  <thead>\n",
       "    <tr style=\"text-align: right;\">\n",
       "      <th></th>\n",
       "      <th>Actual</th>\n",
       "      <th>Predicted</th>\n",
       "    </tr>\n",
       "    <tr>\n",
       "      <th>Date</th>\n",
       "      <th></th>\n",
       "      <th></th>\n",
       "    </tr>\n",
       "  </thead>\n",
       "  <tbody>\n",
       "    <tr>\n",
       "      <th>2021-07-28</th>\n",
       "      <td>39995.90625</td>\n",
       "      <td>38336.105666</td>\n",
       "    </tr>\n",
       "    <tr>\n",
       "      <th>2021-07-29</th>\n",
       "      <td>40008.42188</td>\n",
       "      <td>39748.409103</td>\n",
       "    </tr>\n",
       "    <tr>\n",
       "      <th>2021-07-30</th>\n",
       "      <td>42235.54688</td>\n",
       "      <td>39085.160079</td>\n",
       "    </tr>\n",
       "    <tr>\n",
       "      <th>2021-07-31</th>\n",
       "      <td>41626.19531</td>\n",
       "      <td>38930.492698</td>\n",
       "    </tr>\n",
       "    <tr>\n",
       "      <th>2021-08-01</th>\n",
       "      <td>39974.89453</td>\n",
       "      <td>38448.726058</td>\n",
       "    </tr>\n",
       "    <tr>\n",
       "      <th>...</th>\n",
       "      <td>...</td>\n",
       "      <td>...</td>\n",
       "    </tr>\n",
       "    <tr>\n",
       "      <th>2022-07-23</th>\n",
       "      <td>22465.47852</td>\n",
       "      <td>23743.166876</td>\n",
       "    </tr>\n",
       "    <tr>\n",
       "      <th>2022-07-24</th>\n",
       "      <td>22609.16406</td>\n",
       "      <td>23513.868281</td>\n",
       "    </tr>\n",
       "    <tr>\n",
       "      <th>2022-07-25</th>\n",
       "      <td>21361.70117</td>\n",
       "      <td>23534.059414</td>\n",
       "    </tr>\n",
       "    <tr>\n",
       "      <th>2022-07-26</th>\n",
       "      <td>21239.75391</td>\n",
       "      <td>23316.433496</td>\n",
       "    </tr>\n",
       "    <tr>\n",
       "      <th>2022-07-27</th>\n",
       "      <td>22930.54883</td>\n",
       "      <td>23006.316505</td>\n",
       "    </tr>\n",
       "  </tbody>\n",
       "</table>\n",
       "<p>365 rows × 2 columns</p>\n",
       "</div>"
      ],
      "text/plain": [
       "                 Actual     Predicted\n",
       "Date                                 \n",
       "2021-07-28  39995.90625  38336.105666\n",
       "2021-07-29  40008.42188  39748.409103\n",
       "2021-07-30  42235.54688  39085.160079\n",
       "2021-07-31  41626.19531  38930.492698\n",
       "2021-08-01  39974.89453  38448.726058\n",
       "...                 ...           ...\n",
       "2022-07-23  22465.47852  23743.166876\n",
       "2022-07-24  22609.16406  23513.868281\n",
       "2022-07-25  21361.70117  23534.059414\n",
       "2022-07-26  21239.75391  23316.433496\n",
       "2022-07-27  22930.54883  23006.316505\n",
       "\n",
       "[365 rows x 2 columns]"
      ]
     },
     "execution_count": 91,
     "metadata": {},
     "output_type": "execute_result"
    }
   ],
   "source": [
    "final_df=y_test.merge(y_pred, on='Date')\n",
    "final_df.columns=['Actual', 'Predicted']\n",
    "final_df"
   ]
  },
  {
   "cell_type": "code",
   "execution_count": 92,
   "id": "4e36d2bd",
   "metadata": {},
   "outputs": [
    {
     "data": {
      "text/plain": [
       "<AxesSubplot:xlabel='Date'>"
      ]
     },
     "execution_count": 92,
     "metadata": {},
     "output_type": "execute_result"
    },
    {
     "data": {
      "image/png": "[encoded data removed]",
      "text/plain": [
       "<Figure size 720x360 with 1 Axes>"
      ]
     },
     "metadata": {
      "needs_background": "light"
     },
     "output_type": "display_data"
    }
   ],
   "source": [
    "final_df.plot(figsize=(10,5))"
   ]
  },
  {
   "cell_type": "code",
   "execution_count": 103,
   "id": "196018b8",
   "metadata": {},
   "outputs": [],
   "source": [
    "error_rf = np.sqrt(mean_squared_error(final_df['Actual'],final_df['Predicted']))"
   ]
  },
  {
   "cell_type": "code",
   "execution_count": 104,
   "id": "65d7e71a",
   "metadata": {},
   "outputs": [
    {
     "data": {
      "text/plain": [
       "2607.8459576729547"
      ]
     },
     "execution_count": 104,
     "metadata": {},
     "output_type": "execute_result"
    }
   ],
   "source": [
    "error_rf"
   ]
  },
  {
   "cell_type": "code",
   "execution_count": 105,
   "id": "0a700c13",
   "metadata": {},
   "outputs": [
    {
     "data": {
      "text/plain": [
       "13.519849579294792"
      ]
     },
     "execution_count": 105,
     "metadata": {},
     "output_type": "execute_result"
    }
   ],
   "source": [
    "percentage_rmse_data_mean_rf = (error_rf/mean)*100\n",
    "percentage_rmse_data_mean_rf "
   ]
  },
  {
   "cell_type": "markdown",
   "id": "c3c9193b",
   "metadata": {},
   "source": [
    "## Xgboost"
   ]
  },
  {
   "cell_type": "code",
   "execution_count": 94,
   "id": "168f40d4",
   "metadata": {},
   "outputs": [
    {
     "name": "stdout",
     "output_type": "stream",
     "text": [
      "R2 score: 0.9494470598659658\n",
      "RMSE :  2607.845958\n"
     ]
    }
   ],
   "source": [
    "xgb_r = xg.XGBRegressor()\n",
    " \n",
    "# Fitting the model\n",
    "xgb_r.fit(X_train, y_train)\n",
    " \n",
    "# Predict the model\n",
    "y_pred = xgb_r.predict(X_test)\n",
    "\n",
    "print(\"R2 score:\",xgb_r.score(X_test,y_test))\n",
    "# RMSE Computation\n",
    "rmse = np.sqrt(mean_squared_error(y_test, y_pred))\n",
    "print(\"RMSE : % f\" %(rmse))"
   ]
  },
  {
   "cell_type": "code",
   "execution_count": 95,
   "id": "c4312ea0",
   "metadata": {},
   "outputs": [
    {
     "data": {
      "text/plain": [
       "13.519849579294792"
      ]
     },
     "execution_count": 95,
     "metadata": {},
     "output_type": "execute_result"
    }
   ],
   "source": [
    "percentage_rmse_data_mean = (rmse/mean)*100\n",
    "percentage_rmse_data_mean "
   ]
  },
  {
   "cell_type": "code",
   "execution_count": 96,
   "id": "b9a70e01",
   "metadata": {},
   "outputs": [],
   "source": [
    "y_pred=pd.DataFrame(y_pred, index=y_new['Date'])"
   ]
  },
  {
   "cell_type": "code",
   "execution_count": 97,
   "id": "ae615940",
   "metadata": {},
   "outputs": [
    {
     "data": {
      "text/html": [
       "<div>\n",
       "<style scoped>\n",
       "    .dataframe tbody tr th:only-of-type {\n",
       "        vertical-align: middle;\n",
       "    }\n",
       "\n",
       "    .dataframe tbody tr th {\n",
       "        vertical-align: top;\n",
       "    }\n",
       "\n",
       "    .dataframe thead th {\n",
       "        text-align: right;\n",
       "    }\n",
       "</style>\n",
       "<table border=\"1\" class=\"dataframe\">\n",
       "  <thead>\n",
       "    <tr style=\"text-align: right;\">\n",
       "      <th></th>\n",
       "      <th>Today</th>\n",
       "    </tr>\n",
       "    <tr>\n",
       "      <th>Date</th>\n",
       "      <th></th>\n",
       "    </tr>\n",
       "  </thead>\n",
       "  <tbody>\n",
       "    <tr>\n",
       "      <th>2021-07-28</th>\n",
       "      <td>38744.195312</td>\n",
       "    </tr>\n",
       "    <tr>\n",
       "      <th>2021-07-29</th>\n",
       "      <td>39491.242188</td>\n",
       "    </tr>\n",
       "    <tr>\n",
       "      <th>2021-07-30</th>\n",
       "      <td>38418.957031</td>\n",
       "    </tr>\n",
       "    <tr>\n",
       "      <th>2021-07-31</th>\n",
       "      <td>38854.375000</td>\n",
       "    </tr>\n",
       "    <tr>\n",
       "      <th>2021-08-01</th>\n",
       "      <td>38465.554688</td>\n",
       "    </tr>\n",
       "    <tr>\n",
       "      <th>...</th>\n",
       "      <td>...</td>\n",
       "    </tr>\n",
       "    <tr>\n",
       "      <th>2022-07-23</th>\n",
       "      <td>23691.365234</td>\n",
       "    </tr>\n",
       "    <tr>\n",
       "      <th>2022-07-24</th>\n",
       "      <td>23491.304688</td>\n",
       "    </tr>\n",
       "    <tr>\n",
       "      <th>2022-07-25</th>\n",
       "      <td>23491.304688</td>\n",
       "    </tr>\n",
       "    <tr>\n",
       "      <th>2022-07-26</th>\n",
       "      <td>23491.304688</td>\n",
       "    </tr>\n",
       "    <tr>\n",
       "      <th>2022-07-27</th>\n",
       "      <td>23491.304688</td>\n",
       "    </tr>\n",
       "  </tbody>\n",
       "</table>\n",
       "<p>365 rows × 1 columns</p>\n",
       "</div>"
      ],
      "text/plain": [
       "                   Today\n",
       "Date                    \n",
       "2021-07-28  38744.195312\n",
       "2021-07-29  39491.242188\n",
       "2021-07-30  38418.957031\n",
       "2021-07-31  38854.375000\n",
       "2021-08-01  38465.554688\n",
       "...                  ...\n",
       "2022-07-23  23691.365234\n",
       "2022-07-24  23491.304688\n",
       "2022-07-25  23491.304688\n",
       "2022-07-26  23491.304688\n",
       "2022-07-27  23491.304688\n",
       "\n",
       "[365 rows x 1 columns]"
      ]
     },
     "execution_count": 97,
     "metadata": {},
     "output_type": "execute_result"
    }
   ],
   "source": [
    "y_pred.columns=['Today']\n",
    "y_pred"
   ]
  },
  {
   "cell_type": "code",
   "execution_count": 98,
   "id": "05709801",
   "metadata": {},
   "outputs": [
    {
     "data": {
      "text/html": [
       "<div>\n",
       "<style scoped>\n",
       "    .dataframe tbody tr th:only-of-type {\n",
       "        vertical-align: middle;\n",
       "    }\n",
       "\n",
       "    .dataframe tbody tr th {\n",
       "        vertical-align: top;\n",
       "    }\n",
       "\n",
       "    .dataframe thead th {\n",
       "        text-align: right;\n",
       "    }\n",
       "</style>\n",
       "<table border=\"1\" class=\"dataframe\">\n",
       "  <thead>\n",
       "    <tr style=\"text-align: right;\">\n",
       "      <th></th>\n",
       "      <th>Actual</th>\n",
       "      <th>Predicted</th>\n",
       "    </tr>\n",
       "    <tr>\n",
       "      <th>Date</th>\n",
       "      <th></th>\n",
       "      <th></th>\n",
       "    </tr>\n",
       "  </thead>\n",
       "  <tbody>\n",
       "    <tr>\n",
       "      <th>2021-07-28</th>\n",
       "      <td>39995.90625</td>\n",
       "      <td>38744.195312</td>\n",
       "    </tr>\n",
       "    <tr>\n",
       "      <th>2021-07-29</th>\n",
       "      <td>40008.42188</td>\n",
       "      <td>39491.242188</td>\n",
       "    </tr>\n",
       "    <tr>\n",
       "      <th>2021-07-30</th>\n",
       "      <td>42235.54688</td>\n",
       "      <td>38418.957031</td>\n",
       "    </tr>\n",
       "    <tr>\n",
       "      <th>2021-07-31</th>\n",
       "      <td>41626.19531</td>\n",
       "      <td>38854.375000</td>\n",
       "    </tr>\n",
       "    <tr>\n",
       "      <th>2021-08-01</th>\n",
       "      <td>39974.89453</td>\n",
       "      <td>38465.554688</td>\n",
       "    </tr>\n",
       "    <tr>\n",
       "      <th>...</th>\n",
       "      <td>...</td>\n",
       "      <td>...</td>\n",
       "    </tr>\n",
       "    <tr>\n",
       "      <th>2022-07-23</th>\n",
       "      <td>22465.47852</td>\n",
       "      <td>23691.365234</td>\n",
       "    </tr>\n",
       "    <tr>\n",
       "      <th>2022-07-24</th>\n",
       "      <td>22609.16406</td>\n",
       "      <td>23491.304688</td>\n",
       "    </tr>\n",
       "    <tr>\n",
       "      <th>2022-07-25</th>\n",
       "      <td>21361.70117</td>\n",
       "      <td>23491.304688</td>\n",
       "    </tr>\n",
       "    <tr>\n",
       "      <th>2022-07-26</th>\n",
       "      <td>21239.75391</td>\n",
       "      <td>23491.304688</td>\n",
       "    </tr>\n",
       "    <tr>\n",
       "      <th>2022-07-27</th>\n",
       "      <td>22930.54883</td>\n",
       "      <td>23491.304688</td>\n",
       "    </tr>\n",
       "  </tbody>\n",
       "</table>\n",
       "<p>365 rows × 2 columns</p>\n",
       "</div>"
      ],
      "text/plain": [
       "                 Actual     Predicted\n",
       "Date                                 \n",
       "2021-07-28  39995.90625  38744.195312\n",
       "2021-07-29  40008.42188  39491.242188\n",
       "2021-07-30  42235.54688  38418.957031\n",
       "2021-07-31  41626.19531  38854.375000\n",
       "2021-08-01  39974.89453  38465.554688\n",
       "...                 ...           ...\n",
       "2022-07-23  22465.47852  23691.365234\n",
       "2022-07-24  22609.16406  23491.304688\n",
       "2022-07-25  21361.70117  23491.304688\n",
       "2022-07-26  21239.75391  23491.304688\n",
       "2022-07-27  22930.54883  23491.304688\n",
       "\n",
       "[365 rows x 2 columns]"
      ]
     },
     "execution_count": 98,
     "metadata": {},
     "output_type": "execute_result"
    }
   ],
   "source": [
    "final_df=y_test.merge(y_pred, on='Date')\n",
    "final_df.columns=['Actual', 'Predicted']\n",
    "final_df"
   ]
  },
  {
   "cell_type": "code",
   "execution_count": 99,
   "id": "64e44149",
   "metadata": {},
   "outputs": [
    {
     "data": {
      "text/plain": [
       "<AxesSubplot:xlabel='Date'>"
      ]
     },
     "execution_count": 99,
     "metadata": {},
     "output_type": "execute_result"
    },
    {
     "data": {
      "image/png": "[encoded data removed]",
      "text/plain": [
       "<Figure size 720x360 with 1 Axes>"
      ]
     },
     "metadata": {
      "needs_background": "light"
     },
     "output_type": "display_data"
    }
   ],
   "source": [
    "final_df.plot(figsize=(10,5))"
   ]
  },
  {
   "cell_type": "code",
   "execution_count": null,
   "id": "3a74351c",
   "metadata": {},
   "outputs": [],
   "source": []
  }
 ],
 "metadata": {
  "kernelspec": {
   "display_name": "Python 3 (ipykernel)",
   "language": "python",
   "name": "python3"
  },
  "language_info": {
   "codemirror_mode": {
    "name": "ipython",
    "version": 3
   },
   "file_extension": ".py",
   "mimetype": "text/x-python",
   "name": "python",
   "nbconvert_exporter": "python",
   "pygments_lexer": "ipython3",
   "version": "3.9.12"
  }
 },
 "nbformat": 4,
 "nbformat_minor": 5
}
