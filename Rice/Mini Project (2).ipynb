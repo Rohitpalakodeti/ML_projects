{
 "cells": [
  {
   "cell_type": "code",
   "execution_count": 1,
   "metadata": {},
   "outputs": [],
   "source": [
    "import pandas as pd\n",
    "import numpy as np \n",
    "import matplotlib.pyplot \n",
    "import seaborn as sns\n",
    "\n",
    "%matplotlib inline"
   ]
  },
  {
   "cell_type": "code",
   "execution_count": 87,
   "metadata": {},
   "outputs": [],
   "source": [
    "df=pd.read_excel('Final_crop_data.xlsx')"
   ]
  },
  {
   "cell_type": "code",
   "execution_count": 90,
   "metadata": {},
   "outputs": [],
   "source": [
    "df=df[df['sunhours']>0]"
   ]
  },
  {
   "cell_type": "code",
   "execution_count": 91,
   "metadata": {},
   "outputs": [
    {
     "name": "stdout",
     "output_type": "stream",
     "text": [
      "<class 'pandas.core.frame.DataFrame'>\n",
      "Int64Index: 3412 entries, 3 to 4210\n",
      "Data columns (total 16 columns):\n",
      "State              3412 non-null object\n",
      "District           3412 non-null object\n",
      "Year               3412 non-null int64\n",
      "Season             3412 non-null object\n",
      "Crop               3412 non-null object\n",
      "Area               3412 non-null float64\n",
      "Production         3412 non-null float64\n",
      "Avg_Temperature    3412 non-null float64\n",
      "rainfall           3412 non-null float64\n",
      "Avg_windspeed      3412 non-null float64\n",
      "Avg_pressure       3412 non-null float64\n",
      "Avg_humidity       3412 non-null float64\n",
      "Avg_uvindex        3412 non-null float64\n",
      "sunhours           3412 non-null float64\n",
      "Unnamed: 14        1 non-null float64\n",
      "Unnamed: 15        1 non-null float64\n",
      "dtypes: float64(11), int64(1), object(4)\n",
      "memory usage: 453.2+ KB\n"
     ]
    }
   ],
   "source": [
    "df.info()"
   ]
  },
  {
   "cell_type": "code",
   "execution_count": 92,
   "metadata": {},
   "outputs": [],
   "source": [
    "df.drop('Unnamed: 14',axis=1,inplace=True)\n",
    "df.drop('Unnamed: 15',axis=1,inplace=True)"
   ]
  },
  {
   "cell_type": "code",
   "execution_count": 93,
   "metadata": {},
   "outputs": [
    {
     "name": "stdout",
     "output_type": "stream",
     "text": [
      "<class 'pandas.core.frame.DataFrame'>\n",
      "Int64Index: 3412 entries, 3 to 4210\n",
      "Data columns (total 14 columns):\n",
      "State              3412 non-null object\n",
      "District           3412 non-null object\n",
      "Year               3412 non-null int64\n",
      "Season             3412 non-null object\n",
      "Crop               3412 non-null object\n",
      "Area               3412 non-null float64\n",
      "Production         3412 non-null float64\n",
      "Avg_Temperature    3412 non-null float64\n",
      "rainfall           3412 non-null float64\n",
      "Avg_windspeed      3412 non-null float64\n",
      "Avg_pressure       3412 non-null float64\n",
      "Avg_humidity       3412 non-null float64\n",
      "Avg_uvindex        3412 non-null float64\n",
      "sunhours           3412 non-null float64\n",
      "dtypes: float64(9), int64(1), object(4)\n",
      "memory usage: 399.8+ KB\n"
     ]
    }
   ],
   "source": [
    "df.info()"
   ]
  },
  {
   "cell_type": "code",
   "execution_count": 94,
   "metadata": {},
   "outputs": [
    {
     "name": "stdout",
     "output_type": "stream",
     "text": [
      "Area : \n",
      "[[1.         0.82640307]\n",
      " [0.82640307 1.        ]]\n",
      "\n",
      "Avg_Temperature : \n",
      "[[1.         0.06496055]\n",
      " [0.06496055 1.        ]]\n",
      "\n",
      "rainfall : \n",
      "[[1.        0.0139262]\n",
      " [0.0139262 1.       ]]\n",
      "\n",
      "Avg_windspeed : \n",
      "[[ 1.         -0.00355214]\n",
      " [-0.00355214  1.        ]]\n",
      "\n",
      "Avg_pressure : \n",
      "[[1.         0.00232154]\n",
      " [0.00232154 1.        ]]\n",
      "\n",
      "Avg_humidity : \n",
      "[[ 1.        -0.0217978]\n",
      " [-0.0217978  1.       ]]\n",
      "\n",
      "Avg_uvindex : \n",
      "[[ 1.         -0.00708362]\n",
      " [-0.00708362  1.        ]]\n",
      "\n",
      "sunhours : \n",
      "[[1.         0.12485397]\n",
      " [0.12485397 1.        ]]\n",
      "\n",
      "            State   District  Year       Season  Crop     Area  Production  \\\n",
      "3  Andhra Pradesh  ANANTAPUR  2010  Kharif       Rice  34973.0    102007.0   \n",
      "4  Andhra Pradesh  ANANTAPUR  2010  Rabi         Rice  24828.0     69394.0   \n",
      "5  Andhra Pradesh  ANANTAPUR  2011  Kharif       Rice  37720.0     94531.0   \n",
      "6  Andhra Pradesh  ANANTAPUR  2011  Rabi         Rice  10948.0     25542.0   \n",
      "7  Andhra Pradesh  ANANTAPUR  2012  Kharif       Rice  22056.0     58691.0   \n",
      "\n",
      "   Avg_Temperature  rainfall  Avg_windspeed  Avg_pressure  Avg_humidity  \\\n",
      "3            27.50    226.38         12.625      1007.075        70.000   \n",
      "4            25.50    163.01          9.880      1010.533        59.660   \n",
      "5            28.00    175.21         19.350      1007.325        62.250   \n",
      "6            26.33     77.34        193.310      1011.350        53.166   \n",
      "7            28.00    126.28         75.000      1007.550       238.660   \n",
      "\n",
      "   Avg_uvindex  sunhours  \n",
      "3         5.50    1046.5  \n",
      "4         6.33     420.0  \n",
      "5        24.33    1023.0  \n",
      "6         6.83     422.5  \n",
      "7        18.75    1039.5  \n"
     ]
    }
   ],
   "source": [
    "for i in range(5,len(df.columns)):\n",
    "    \n",
    "    if i!=6:\n",
    "        \n",
    "        print('{} : \\n{}\\n'.format(df.columns[i],np.corrcoef(df[df.columns[i]],df['Production'])))\n",
    "        \n",
    "print(df.head())"
   ]
  },
  {
   "cell_type": "code",
   "execution_count": 95,
   "metadata": {},
   "outputs": [],
   "source": [
    "Districts=df['District'].unique()\n",
    "\n",
    "States=df['State'].unique()\n",
    "\n",
    "Seasons=df['Season'].unique()\n",
    "\n",
    "def season_code(n):\n",
    "    \n",
    "    for i in range(len(Seasons)):\n",
    "        \n",
    "        if n == Seasons[i]:\n",
    "            \n",
    "            return i\n",
    "        \n",
    "df['Season_code']=df['Season'].apply(season_code)\n",
    "\n",
    "\n",
    "def state_code(n):\n",
    "    \n",
    "    for i in range(len(States)):\n",
    "        \n",
    "        if n == States[i]:\n",
    "            \n",
    "            return i\n",
    "\n",
    "df['State_code']=df['State'].apply(state_code)\n",
    "        \n",
    "def district_code(n):\n",
    "    \n",
    "    for i in range(len(Districts)):\n",
    "        \n",
    "        if n == Districts[i]:\n",
    "            \n",
    "            return i\n",
    "df['District_code']=df['District'].apply(district_code)\n",
    "        \n",
    "        "
   ]
  },
  {
   "cell_type": "code",
   "execution_count": 96,
   "metadata": {},
   "outputs": [
    {
     "data": {
      "text/html": [
       "<div>\n",
       "<style scoped>\n",
       "    .dataframe tbody tr th:only-of-type {\n",
       "        vertical-align: middle;\n",
       "    }\n",
       "\n",
       "    .dataframe tbody tr th {\n",
       "        vertical-align: top;\n",
       "    }\n",
       "\n",
       "    .dataframe thead th {\n",
       "        text-align: right;\n",
       "    }\n",
       "</style>\n",
       "<table border=\"1\" class=\"dataframe\">\n",
       "  <thead>\n",
       "    <tr style=\"text-align: right;\">\n",
       "      <th></th>\n",
       "      <th>State</th>\n",
       "      <th>District</th>\n",
       "      <th>Year</th>\n",
       "      <th>Season</th>\n",
       "      <th>Crop</th>\n",
       "      <th>Area</th>\n",
       "      <th>Production</th>\n",
       "      <th>Avg_Temperature</th>\n",
       "      <th>rainfall</th>\n",
       "      <th>Avg_windspeed</th>\n",
       "      <th>Avg_pressure</th>\n",
       "      <th>Avg_humidity</th>\n",
       "      <th>Avg_uvindex</th>\n",
       "      <th>sunhours</th>\n",
       "      <th>Season_code</th>\n",
       "      <th>State_code</th>\n",
       "      <th>District_code</th>\n",
       "    </tr>\n",
       "  </thead>\n",
       "  <tbody>\n",
       "    <tr>\n",
       "      <th>3</th>\n",
       "      <td>Andhra Pradesh</td>\n",
       "      <td>ANANTAPUR</td>\n",
       "      <td>2010</td>\n",
       "      <td>Kharif</td>\n",
       "      <td>Rice</td>\n",
       "      <td>34973.0</td>\n",
       "      <td>102007.0</td>\n",
       "      <td>27.50</td>\n",
       "      <td>226.38</td>\n",
       "      <td>12.625</td>\n",
       "      <td>1007.075</td>\n",
       "      <td>70.000</td>\n",
       "      <td>5.50</td>\n",
       "      <td>1046.5</td>\n",
       "      <td>0</td>\n",
       "      <td>0</td>\n",
       "      <td>0</td>\n",
       "    </tr>\n",
       "    <tr>\n",
       "      <th>4</th>\n",
       "      <td>Andhra Pradesh</td>\n",
       "      <td>ANANTAPUR</td>\n",
       "      <td>2010</td>\n",
       "      <td>Rabi</td>\n",
       "      <td>Rice</td>\n",
       "      <td>24828.0</td>\n",
       "      <td>69394.0</td>\n",
       "      <td>25.50</td>\n",
       "      <td>163.01</td>\n",
       "      <td>9.880</td>\n",
       "      <td>1010.533</td>\n",
       "      <td>59.660</td>\n",
       "      <td>6.33</td>\n",
       "      <td>420.0</td>\n",
       "      <td>1</td>\n",
       "      <td>0</td>\n",
       "      <td>0</td>\n",
       "    </tr>\n",
       "    <tr>\n",
       "      <th>5</th>\n",
       "      <td>Andhra Pradesh</td>\n",
       "      <td>ANANTAPUR</td>\n",
       "      <td>2011</td>\n",
       "      <td>Kharif</td>\n",
       "      <td>Rice</td>\n",
       "      <td>37720.0</td>\n",
       "      <td>94531.0</td>\n",
       "      <td>28.00</td>\n",
       "      <td>175.21</td>\n",
       "      <td>19.350</td>\n",
       "      <td>1007.325</td>\n",
       "      <td>62.250</td>\n",
       "      <td>24.33</td>\n",
       "      <td>1023.0</td>\n",
       "      <td>0</td>\n",
       "      <td>0</td>\n",
       "      <td>0</td>\n",
       "    </tr>\n",
       "    <tr>\n",
       "      <th>6</th>\n",
       "      <td>Andhra Pradesh</td>\n",
       "      <td>ANANTAPUR</td>\n",
       "      <td>2011</td>\n",
       "      <td>Rabi</td>\n",
       "      <td>Rice</td>\n",
       "      <td>10948.0</td>\n",
       "      <td>25542.0</td>\n",
       "      <td>26.33</td>\n",
       "      <td>77.34</td>\n",
       "      <td>193.310</td>\n",
       "      <td>1011.350</td>\n",
       "      <td>53.166</td>\n",
       "      <td>6.83</td>\n",
       "      <td>422.5</td>\n",
       "      <td>1</td>\n",
       "      <td>0</td>\n",
       "      <td>0</td>\n",
       "    </tr>\n",
       "    <tr>\n",
       "      <th>7</th>\n",
       "      <td>Andhra Pradesh</td>\n",
       "      <td>ANANTAPUR</td>\n",
       "      <td>2012</td>\n",
       "      <td>Kharif</td>\n",
       "      <td>Rice</td>\n",
       "      <td>22056.0</td>\n",
       "      <td>58691.0</td>\n",
       "      <td>28.00</td>\n",
       "      <td>126.28</td>\n",
       "      <td>75.000</td>\n",
       "      <td>1007.550</td>\n",
       "      <td>238.660</td>\n",
       "      <td>18.75</td>\n",
       "      <td>1039.5</td>\n",
       "      <td>0</td>\n",
       "      <td>0</td>\n",
       "      <td>0</td>\n",
       "    </tr>\n",
       "  </tbody>\n",
       "</table>\n",
       "</div>"
      ],
      "text/plain": [
       "            State   District  Year       Season  Crop     Area  Production  \\\n",
       "3  Andhra Pradesh  ANANTAPUR  2010  Kharif       Rice  34973.0    102007.0   \n",
       "4  Andhra Pradesh  ANANTAPUR  2010  Rabi         Rice  24828.0     69394.0   \n",
       "5  Andhra Pradesh  ANANTAPUR  2011  Kharif       Rice  37720.0     94531.0   \n",
       "6  Andhra Pradesh  ANANTAPUR  2011  Rabi         Rice  10948.0     25542.0   \n",
       "7  Andhra Pradesh  ANANTAPUR  2012  Kharif       Rice  22056.0     58691.0   \n",
       "\n",
       "   Avg_Temperature  rainfall  Avg_windspeed  Avg_pressure  Avg_humidity  \\\n",
       "3            27.50    226.38         12.625      1007.075        70.000   \n",
       "4            25.50    163.01          9.880      1010.533        59.660   \n",
       "5            28.00    175.21         19.350      1007.325        62.250   \n",
       "6            26.33     77.34        193.310      1011.350        53.166   \n",
       "7            28.00    126.28         75.000      1007.550       238.660   \n",
       "\n",
       "   Avg_uvindex  sunhours  Season_code  State_code  District_code  \n",
       "3         5.50    1046.5            0           0              0  \n",
       "4         6.33     420.0            1           0              0  \n",
       "5        24.33    1023.0            0           0              0  \n",
       "6         6.83     422.5            1           0              0  \n",
       "7        18.75    1039.5            0           0              0  "
      ]
     },
     "execution_count": 96,
     "metadata": {},
     "output_type": "execute_result"
    }
   ],
   "source": [
    "df.head(5)\n"
   ]
  },
  {
   "cell_type": "code",
   "execution_count": 97,
   "metadata": {},
   "outputs": [
    {
     "name": "stderr",
     "output_type": "stream",
     "text": [
      "C:\\Users\\HP\\Anaconda3\\New folder\\lib\\site-packages\\sklearn\\utils\\validation.py:475: DataConversionWarning: Data with input dtype int64 was converted to float64 by StandardScaler.\n",
      "  warnings.warn(msg, DataConversionWarning)\n",
      "C:\\Users\\HP\\Anaconda3\\New folder\\lib\\site-packages\\sklearn\\utils\\validation.py:475: DataConversionWarning: Data with input dtype int64 was converted to float64 by StandardScaler.\n",
      "  warnings.warn(msg, DataConversionWarning)\n",
      "C:\\Users\\HP\\Anaconda3\\New folder\\lib\\site-packages\\sklearn\\utils\\validation.py:475: DataConversionWarning: Data with input dtype int64 was converted to float64 by StandardScaler.\n",
      "  warnings.warn(msg, DataConversionWarning)\n",
      "C:\\Users\\HP\\Anaconda3\\New folder\\lib\\site-packages\\sklearn\\utils\\validation.py:475: DataConversionWarning: Data with input dtype int64 was converted to float64 by StandardScaler.\n",
      "  warnings.warn(msg, DataConversionWarning)\n",
      "C:\\Users\\HP\\Anaconda3\\New folder\\lib\\site-packages\\sklearn\\utils\\validation.py:475: DataConversionWarning: Data with input dtype int64 was converted to float64 by StandardScaler.\n",
      "  warnings.warn(msg, DataConversionWarning)\n",
      "C:\\Users\\HP\\Anaconda3\\New folder\\lib\\site-packages\\sklearn\\utils\\validation.py:475: DataConversionWarning: Data with input dtype int64 was converted to float64 by StandardScaler.\n",
      "  warnings.warn(msg, DataConversionWarning)\n"
     ]
    }
   ],
   "source": [
    "from sklearn.preprocessing import StandardScaler\n",
    "\n",
    "#test=StandardScaler().fit_transform([10].values.reshape(-1,1))\n",
    "\n",
    "NormalizedData=df\n",
    "\n",
    "def Normalization(num):\n",
    "    \n",
    "    NormalizedData[df.columns[i]]=StandardScaler().fit_transform(df[df.columns[i]].values.reshape(-1,1))\n",
    "    \n",
    "\n",
    "for i in range(5,17):\n",
    "    \n",
    "    if i!=6:\n",
    "        \n",
    "        Normalization(i)\n"
   ]
  },
  {
   "cell_type": "code",
   "execution_count": 98,
   "metadata": {},
   "outputs": [
    {
     "name": "stdout",
     "output_type": "stream",
     "text": [
      "Index(['State', 'District', 'Year', 'Season', 'Crop', 'Area', 'Production',\n",
      "       'Avg_Temperature', 'rainfall', 'Avg_windspeed', 'Avg_pressure',\n",
      "       'Avg_humidity', 'Avg_uvindex', 'sunhours', 'Season_code', 'State_code',\n",
      "       'District_code'],\n",
      "      dtype='object')\n"
     ]
    }
   ],
   "source": [
    "from sklearn.linear_model import LinearRegression , LogisticRegression , Ridge\n",
    "\n",
    "\n",
    "lin = LinearRegression()\n",
    "\n",
    "print(df.columns)"
   ]
  },
  {
   "cell_type": "code",
   "execution_count": 99,
   "metadata": {},
   "outputs": [],
   "source": [
    "from sklearn.cross_validation import train_test_split\n",
    "\n",
    "X = df[['Area','Avg_Temperature', 'rainfall','Avg_humidity','sunhours', 'Season_code', 'State_code','District_code']]\n",
    "\n",
    "y = df['Production']\n",
    "\n",
    "\n",
    "\n",
    "x_train,x_test,y_train,y_test = train_test_split(X,y,test_size=0.4,random_state=101)"
   ]
  },
  {
   "cell_type": "code",
   "execution_count": 100,
   "metadata": {},
   "outputs": [
    {
     "data": {
      "text/plain": [
       "LinearRegression(copy_X=True, fit_intercept=True, n_jobs=1, normalize=False)"
      ]
     },
     "execution_count": 100,
     "metadata": {},
     "output_type": "execute_result"
    }
   ],
   "source": [
    "lin.fit(x_train,y_train)"
   ]
  },
  {
   "cell_type": "code",
   "execution_count": 101,
   "metadata": {},
   "outputs": [
    {
     "data": {
      "text/plain": [
       "0.7339889806082627"
      ]
     },
     "execution_count": 101,
     "metadata": {},
     "output_type": "execute_result"
    }
   ],
   "source": [
    "lin.score(x_test,y_test)"
   ]
  },
  {
   "cell_type": "code",
   "execution_count": 102,
   "metadata": {},
   "outputs": [
    {
     "data": {
      "text/plain": [
       "474"
      ]
     },
     "execution_count": 102,
     "metadata": {},
     "output_type": "execute_result"
    }
   ],
   "source": [
    "len(df['District'].unique())"
   ]
  },
  {
   "cell_type": "code",
   "execution_count": 103,
   "metadata": {},
   "outputs": [
    {
     "name": "stdout",
     "output_type": "stream",
     "text": [
      "PointbiserialrResult(correlation=0.1239933571908138, pvalue=3.64445335760616e-13)\n"
     ]
    }
   ],
   "source": [
    "from scipy import stats\n",
    "\n",
    "\n",
    "print(stats.pointbiserialr(df['Production'],df['District_code']))"
   ]
  },
  {
   "cell_type": "code",
   "execution_count": 104,
   "metadata": {},
   "outputs": [
    {
     "data": {
      "text/plain": [
       "SVR(C=1.0, cache_size=200, coef0=0.0, degree=3, epsilon=0.1, gamma='auto',\n",
       "  kernel='linear', max_iter=-1, shrinking=True, tol=0.001, verbose=False)"
      ]
     },
     "execution_count": 104,
     "metadata": {},
     "output_type": "execute_result"
    }
   ],
   "source": [
    "from sklearn.svm import SVR\n",
    "\n",
    "svm=SVR(kernel='linear')\n",
    "\n",
    "svm.fit(x_train,y_train)"
   ]
  },
  {
   "cell_type": "code",
   "execution_count": 105,
   "metadata": {},
   "outputs": [
    {
     "data": {
      "text/plain": [
       "-0.16286694932528745"
      ]
     },
     "execution_count": 105,
     "metadata": {},
     "output_type": "execute_result"
    }
   ],
   "source": [
    "svm.score(x_test,y_test)"
   ]
  },
  {
   "cell_type": "code",
   "execution_count": null,
   "metadata": {},
   "outputs": [
    {
     "name": "stdout",
     "output_type": "stream",
     "text": [
      "C=9.999999747378752e-05, gamma=2.0, kernel=poly, degree=5.0, tol=1.0 \n",
      "0.07593993308349567\n",
      "C=9.999999747378752e-05, gamma=2.5, kernel=poly, degree=5.0, tol=1.0 \n",
      "0.18301250305582817\n",
      "C=9.999999747378752e-05, gamma=3.0, kernel=poly, degree=5.0, tol=1.0 \n",
      "0.2803403979134478\n",
      "C=0.0005000000237487257, gamma=2.5, kernel=poly, degree=5.0, tol=1.0 \n",
      "0.43409245485201625\n",
      "C=0.0005000000237487257, gamma=3.0, kernel=poly, degree=5.0, tol=1.0 \n",
      "0.6178772336765329\n",
      "C=0.0010000000474974513, gamma=3.0, kernel=poly, degree=5.0, tol=1.0 \n",
      "0.676436039396568\n",
      "C=0.004999999888241291, gamma=2.5, kernel=poly, degree=5.0, tol=1.0 \n",
      "0.6951501205282358\n",
      "C=0.10000000149011612, gamma=1.5, kernel=poly, degree=5.0, tol=1.0 \n",
      "0.7054505413383788\n"
     ]
    }
   ],
   "source": [
    "\n",
    "c=np.array([0.0001,0.0005,0.001,0.005,0.1,0.5,1.0,1.5,5.0,10.0,50.0],dtype='float32')\n",
    "\n",
    "degree=np.array([1,2,3,4,5],dtype='float32')\n",
    "\n",
    "gamma=np.array([1.0,1.5,2.0,2.5,3.0],dtype='float32')\n",
    "\n",
    "kernel=['rbf','linear','poly']\n",
    "\n",
    "tol=[0.0001,0.001,0.1,1.0]\n",
    "\n",
    "acc=[]\n",
    "\n",
    "cost_val=[]\n",
    "\n",
    "degree_val=[]\n",
    "\n",
    "g=[]\n",
    "\n",
    "kern=[]\n",
    "toler=[]\n",
    "\n",
    "\n",
    "maxscore=0\n",
    "\n",
    "for i in range(11):\n",
    "    \n",
    "    for j in range(5):\n",
    "        \n",
    "        for z in range(5):\n",
    "            \n",
    "            for k in range(3):\n",
    "                \n",
    "                for m in range(4):\n",
    "                    \n",
    "                \n",
    "                    svm=SVR(C=c[i],gamma=gamma[j],kernel=kernel[k],degree=degree[z],tol=tol[m])\n",
    "                    svm.fit(x_train,y_train)\n",
    "                    acc.append(svm.score(x_test,y_test))\n",
    "                    cost_val.append(c[i])\n",
    "                    degree_val.append(degree[z])\n",
    "                    toler.append(tol[m])\n",
    "                    g.append(gamma[j])\n",
    "                    if kernel[k]=='rbf':\n",
    "                        kern.append(0)\n",
    "                    elif kernel[k]=='linear':\n",
    "                        kern.append(1)\n",
    "                    elif kernel[k]=='poly':\n",
    "                        kern.append(2)\n",
    "                \n",
    "                \n",
    "                \n",
    "                \n",
    "                if maxscore<svm.score(x_test,y_test):\n",
    "                    \n",
    "                    maxscore=svm.score(x_test,y_test)\n",
    "                    print('C={}, gamma={}, kernel={}, degree={}, tol={} '.format(c[i],gamma[j],kernel[k],degree[z],toler[m]))\n",
    "                    print(svm.score(x_test,y_test))\n",
    "                    \n",
    "svm=SVC(C=0.10000000149011612, gamma=3.0, kernel='poly', degree=2.0, tol=1.0 )\n",
    "print(svm.fit(x_train,y_train))\n",
    "print(classification_report(y_test,svm.predict(x_test)))"
   ]
  },
  {
   "cell_type": "code",
   "execution_count": null,
   "metadata": {},
   "outputs": [],
   "source": []
  }
 ],
 "metadata": {
  "kernelspec": {
   "display_name": "Python 3",
   "language": "python",
   "name": "python3"
  },
  "language_info": {
   "codemirror_mode": {
    "name": "ipython",
    "version": 3
   },
   "file_extension": ".py",
   "mimetype": "text/x-python",
   "name": "python",
   "nbconvert_exporter": "python",
   "pygments_lexer": "ipython3",
   "version": "3.6.5"
  }
 },
 "nbformat": 4,
 "nbformat_minor": 2
}
